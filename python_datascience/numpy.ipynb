{
 "cells": [
  {
   "cell_type": "code",
   "execution_count": 3,
   "metadata": {},
   "outputs": [],
   "source": [
    "'''\n",
    "Array and Matrix are key features of Numpy.\n",
    "Numpy was not part of python packages initially.\n",
    "Numpy has been borrowed from Matlab.\n",
    "'''\n",
    "import numpy as np\n",
    "from numpy.random import randint as ri"
   ]
  },
  {
   "cell_type": "code",
   "execution_count": 4,
   "metadata": {},
   "outputs": [
    {
     "name": "stdout",
     "output_type": "stream",
     "text": [
      "[1 2 3]\n",
      "type is ND Array  <class 'numpy.ndarray'>\n"
     ]
    }
   ],
   "source": [
    "#create a numpy Array from a LIST\n",
    "mylist = [1,2,3]\n",
    "print (np.array( mylist))\n",
    "print ('type is ND Array ', type(np.array(mylist)) )\n"
   ]
  },
  {
   "cell_type": "code",
   "execution_count": 11,
   "metadata": {},
   "outputs": [
    {
     "name": "stdout",
     "output_type": "stream",
     "text": [
      "[1. 2. 3.]\n",
      "['1' '2' '3.0' 'Hi']\n",
      "['1' '2' '3.0']\n"
     ]
    }
   ],
   "source": [
    "#Upcasting - if you pass a LIST as input with values of different data type, numpy upcasts all values to higher data types\n",
    "\n",
    "mylist = [1,2,3.0]\n",
    "print (np.array( mylist))\n",
    "\n",
    "\n",
    "mylist = [1,2,3.0, \"Hi\"]\n",
    "print (np.array( mylist))\n",
    "\n",
    "#create array while specifying data type using dtype command.\n",
    "mylist = [1,2,3.0]\n",
    "print (np.array( mylist , dtype = str))"
   ]
  },
  {
   "cell_type": "code",
   "execution_count": 6,
   "metadata": {},
   "outputs": [
    {
     "name": "stdout",
     "output_type": "stream",
     "text": [
      "[[1 2]\n",
      " [3 4]]\n",
      "-------------\n",
      "[[[[[1 2 3]]]]]\n",
      "-------------\n",
      "numpy array \"a\"  has shape  (2, 2)\n"
     ]
    }
   ],
   "source": [
    "#creating multi-dimension array\n",
    "\n",
    "#below creates a 2x2 array as we gave list of list as input\n",
    "print (np.array([[1, 2], [3, 4]]) )\n",
    "\n",
    "print (\"-------------\")\n",
    "\n",
    "# Minimum dimensions 2: use of ndmin option\n",
    "# ndmin specifies the minimum dimensions of resultant array. so if value = 5 then 5 array one inside the other, are formed.\n",
    "print (np.array([1, 2, 3], ndmin=5))\n",
    "\n",
    "print (\"-------------\")\n",
    "#print shape of array using 'shape' command\n",
    "a = np.array([[1, 2], [3, 4]]) \n",
    "print ('numpy array \"a\"  has shape ', a.shape)"
   ]
  },
  {
   "cell_type": "code",
   "execution_count": 24,
   "metadata": {},
   "outputs": [
    {
     "name": "stdout",
     "output_type": "stream",
     "text": [
      "[1.+0.j 2.+0.j 3.+0.j 4.+0.j]\n",
      "[(1, 2.) (3, 4.)]\n",
      "real values  [1 3]\n",
      "imaginary values  [2. 4.]\n",
      "(1, 2.)\n",
      "(3, 4.)\n",
      "1 <class 'numpy.int32'>\n",
      "2.0 <class 'numpy.float64'>\n",
      "3 <class 'numpy.int32'>\n",
      "4.0 <class 'numpy.float64'>\n"
     ]
    }
   ],
   "source": [
    "#creating Complex Array\n",
    "\n",
    "#here imaginary number is missing and set as 0\n",
    "print (np.array([1,2,3,4],dtype=complex))\n",
    "\n",
    "# do : 24-27 min\n",
    "'''\n",
    "\n",
    "Below complex = a + ib\n",
    "we define data type of a and b separately. \n",
    "If we dont, and instead pass type=complex, then by default the values are of 64 bit.\n",
    "\n",
    "Here i4 = integer of 8x4 = 32 bit\n",
    "similarly, we can have \n",
    "    f4 = float of 32 bit\n",
    "    i8 = integer of 64 bit\n",
    "    \n",
    "\n",
    "'''\n",
    "x = np.array([(1,2), (3,4)], dtype=[('a','<i4'), ('b','<f8') ])\n",
    "print (x)\n",
    "print ('real values ', x['a'])\n",
    "print ('imaginary values ', x['b'])\n",
    "\n",
    "print (x[0])\n",
    "print (x[1])\n",
    "print (x[0][0], type(x[0][0]))\n",
    "print (x[0][1], type(x[0][1]))\n",
    "print (x[1][0], type(x[1][0]))\n",
    "print (x[1][1], type(x[1][1]))\n",
    "\n"
   ]
  },
  {
   "cell_type": "code",
   "execution_count": 28,
   "metadata": {},
   "outputs": [
    {
     "name": "stdout",
     "output_type": "stream",
     "text": [
      "[[1 2]\n",
      " [4 7]] <class 'numpy.matrix'>\n",
      "[[1 2]\n",
      " [3 4]]\n"
     ]
    }
   ],
   "source": [
    "#matrix creation 2 ways\n",
    "'''\n",
    "\n",
    "Numpy supports 2 type of data type - array and matrix\n",
    "Matrix is a sub class of array.\n",
    "\n",
    "\n",
    "'''\n",
    "# method 1: Creating an array from sub-classes:\n",
    "matrix = np.mat(np.array([[1, 2],[4,7]]))\n",
    "print (matrix, type(matrix))\n",
    "\n",
    "\n",
    "#method 2: from string of integers, with each row of matrix separated by semi-colon - \";\"\n",
    "print (np.mat('1 2; 3 4'))"
   ]
  },
  {
   "cell_type": "markdown",
   "metadata": {},
   "source": [
    "## numpy.asarray()"
   ]
  },
  {
   "cell_type": "code",
   "execution_count": 29,
   "metadata": {},
   "outputs": [
    {
     "name": "stdout",
     "output_type": "stream",
     "text": [
      "[1 2] <class 'numpy.ndarray'>\n",
      "[1 2] <class 'numpy.ndarray'>\n"
     ]
    }
   ],
   "source": [
    "# asarray() function - to create array. Same as np.array()\n",
    "# asarray() also used to convert data into an N-Dimension array.\n",
    "\n",
    "#input - list\n",
    "a = [1, 2]\n",
    "print (np.asarray(a), type(np.asarray(a)))\n",
    "\n",
    "#input - tuples\n",
    "a=(1,2)\n",
    "print (np.asarray(a), type(np.asarray(a)))"
   ]
  },
  {
   "cell_type": "markdown",
   "metadata": {},
   "source": [
    "## numpy.asanyarray()\n",
    "\n",
    "numpy.array() is SAME as numpy.asarray()\n",
    "\n",
    "But in case of numpy.asanyarray() --> \n",
    "It also returns an array, but if input is kind of array (i.e. matrix), it doesnt do conversion and returns as it is.\n",
    "This is unlike np.asarray() that converts matrix into array.\n",
    "\n"
   ]
  },
  {
   "cell_type": "code",
   "execution_count": 35,
   "metadata": {},
   "outputs": [
    {
     "name": "stdout",
     "output_type": "stream",
     "text": [
      "[[1 2]]\n",
      "asanyarray\n",
      "[[1 2]] <class 'numpy.matrix'>\n",
      "True\n",
      "asarray\n",
      "[[1 2]] <class 'numpy.ndarray'>\n",
      "False\n"
     ]
    }
   ],
   "source": [
    "a = np.matrix([[1, 2]])\n",
    "print (a)\n",
    "\n",
    "print ('asanyarray')\n",
    "print (np.asanyarray(a), type(np.asanyarray(a)))\n",
    "print (np.asanyarray(a) is a)\n",
    "\n",
    "print ('asarray')\n",
    "print (np.asarray(a),type(np.asarray(a)))\n",
    "print (np.asarray(a) is a)\n"
   ]
  },
  {
   "cell_type": "markdown",
   "metadata": {},
   "source": [
    "## Deep and Shallow Copy : numpy.copy\n",
    "\n",
    "\n",
    "Shallow Copy: here 2 array objects are referig to same array location.\n",
    "So, change in 1 is reflected in Other.\n",
    "\n",
    "Deep Copy: we create a new copy of one array in a separate memory location.\n",
    "So, change in 1 is NOT reflected in Other."
   ]
  },
  {
   "cell_type": "code",
   "execution_count": 44,
   "metadata": {},
   "outputs": [
    {
     "name": "stdout",
     "output_type": "stream",
     "text": [
      "Shallow Copy\n",
      "a  [1 2]\n",
      "b  [1 2]\n",
      "after change\n",
      "b  [100   2]\n",
      "a  [100   2]\n"
     ]
    }
   ],
   "source": [
    "print ('Shallow Copy')\n",
    "a = np.array([1, 2])\n",
    "b = a   #shallow copy\n",
    "\n",
    "print ('a ', a)\n",
    "print (\"b \", b)\n",
    "\n",
    "print ('after change')\n",
    "\n",
    "b[0]=100\n",
    "\n",
    "print (\"b \", b)\n",
    "print (\"a \", a)\n"
   ]
  },
  {
   "cell_type": "code",
   "execution_count": 43,
   "metadata": {},
   "outputs": [
    {
     "name": "stdout",
     "output_type": "stream",
     "text": [
      "Deep Copy:\n",
      "a  [1 2]\n",
      "c  [1 2]\n",
      "after change\n",
      "a  [5 2]\n",
      "c  [1 2]\n"
     ]
    }
   ],
   "source": [
    "print ('Deep Copy:')\n",
    "a = np.array([1, 2])\n",
    "\n",
    "c= np.array(a, copy=True) \n",
    "print ('a ', a)\n",
    "print ('c ',c)\n",
    "\n",
    "a[0] = 5\n",
    "print ('after change')\n",
    "print ('a ', a)\n",
    "print ('c ',c)\n",
    "\n"
   ]
  },
  {
   "cell_type": "markdown",
   "metadata": {},
   "source": [
    "# numpy.fromfunction\n",
    "\n",
    "Construct an array by executing a function over each Coordinate.\n",
    "\n",
    "Syntax -\n",
    "np.fromfunction( func, shape of array, **kwargs)\n",
    "\n",
    "for example in below we give shape as (3,3) which is a 3x3 matrix and function is applied to all indices in combination.\n"
   ]
  },
  {
   "cell_type": "code",
   "execution_count": 45,
   "metadata": {},
   "outputs": [
    {
     "data": {
      "text/plain": [
       "array([[ True, False, False],\n",
       "       [False,  True, False],\n",
       "       [False, False,  True]])"
      ]
     },
     "execution_count": 45,
     "metadata": {},
     "output_type": "execute_result"
    }
   ],
   "source": [
    "np.fromfunction( lambda i,j: i==j, (3,3), dtype=int )"
   ]
  },
  {
   "cell_type": "code",
   "execution_count": 46,
   "metadata": {},
   "outputs": [
    {
     "data": {
      "text/plain": [
       "array([[0, 1, 2],\n",
       "       [1, 2, 3],\n",
       "       [2, 3, 4]])"
      ]
     },
     "execution_count": 46,
     "metadata": {},
     "output_type": "execute_result"
    }
   ],
   "source": [
    "np.fromfunction( lambda i,j: i+j, (3,3), dtype=int )"
   ]
  },
  {
   "cell_type": "markdown",
   "metadata": {},
   "source": [
    "## numpy.fromiter  create array from iterable object\n",
    "\n",
    "It takes an iterable object as input and converts it into Numpy Array.\n"
   ]
  },
  {
   "cell_type": "code",
   "execution_count": 57,
   "metadata": {},
   "outputs": [
    {
     "data": {
      "text/plain": [
       "array([0, 1, 2, 3, 4, 5, 6, 7, 8, 9])"
      ]
     },
     "execution_count": 57,
     "metadata": {},
     "output_type": "execute_result"
    }
   ],
   "source": [
    "iterable = (x for x in range(10))\n",
    "np.fromiter(iterable, dtype=int)"
   ]
  },
  {
   "cell_type": "code",
   "execution_count": 58,
   "metadata": {},
   "outputs": [
    {
     "data": {
      "text/plain": [
       "array([0, 1, 2, 3, 4, 5, 6, 7, 8, 9])"
      ]
     },
     "execution_count": 58,
     "metadata": {},
     "output_type": "execute_result"
    }
   ],
   "source": [
    "#other way of creating above array\n",
    "np.array(range(10),int)"
   ]
  },
  {
   "cell_type": "code",
   "execution_count": 53,
   "metadata": {},
   "outputs": [
    {
     "data": {
      "text/plain": [
       "array([ 0.,  1.,  4.,  9., 16., 25., 36., 49., 64., 81.])"
      ]
     },
     "execution_count": 53,
     "metadata": {},
     "output_type": "execute_result"
    }
   ],
   "source": [
    "iterable = (x*x for x in range(10))\n",
    "np.fromiter(iterable, dtype=float)"
   ]
  },
  {
   "cell_type": "markdown",
   "metadata": {},
   "source": [
    "## numpy.fromstring()   create array from a string"
   ]
  },
  {
   "cell_type": "code",
   "execution_count": 59,
   "metadata": {},
   "outputs": [
    {
     "data": {
      "text/plain": [
       "array([1, 2, 3, 4])"
      ]
     },
     "execution_count": 59,
     "metadata": {},
     "output_type": "execute_result"
    }
   ],
   "source": [
    "np.fromstring('1 2 3 4', sep=' ',dtype=int)"
   ]
  },
  {
   "cell_type": "code",
   "execution_count": 61,
   "metadata": {},
   "outputs": [
    {
     "data": {
      "text/plain": [
       "array([1, 2, 3, 4])"
      ]
     },
     "execution_count": 61,
     "metadata": {},
     "output_type": "execute_result"
    }
   ],
   "source": [
    "np.fromstring('1, 2, 3, 4', sep=', ',dtype=int)"
   ]
  },
  {
   "cell_type": "markdown",
   "metadata": {},
   "source": [
    "## ndim, ndmin, shape and size\n",
    "\n",
    "ndmin = array dimension set at time of creation of array\n",
    "ndim = returns dimension of array - how may dimenion array we have like 2-d, 3-d, 4-d etc\n",
    "shape = returns shape of array\n",
    "size = returns number of elements in array\n",
    "\n"
   ]
  },
  {
   "cell_type": "code",
   "execution_count": 78,
   "metadata": {},
   "outputs": [
    {
     "name": "stdout",
     "output_type": "stream",
     "text": [
      "Type/Class of this object: <class 'numpy.ndarray'>\n",
      "Here is the matrix\n",
      "----------\n",
      " [[  1   2   3 100 200]\n",
      " [  4   5   6 300 400]\n",
      " [  7   8   9 500 600]] \n",
      "----------\n",
      "Dimension of this matrix:  2\n",
      "Size of this matrix:  15\n",
      "Shape of this matrix:  (3, 5)\n",
      "Data type of this matrix:  int64\n"
     ]
    }
   ],
   "source": [
    "my_mat = [[1,2,3,100,200],[4,5,6,300,400],[7,8,9,500,600]]\n",
    "mat = np.array(my_mat)\n",
    "print(\"Type/Class of this object:\",type(mat))\n",
    "print(\"Here is the matrix\\n----------\\n\",mat,\"\\n----------\")\n",
    "print(\"Dimension of this matrix: \",mat.ndim) #ndim gives the dimensison, 2 for a matrix, 1 for a vector\n",
    "print(\"Size of this matrix: \", mat.size) #size gives the total number of elements\n",
    "print(\"Shape of this matrix: \", mat.shape) #shape gives the number of elements along each axes (dimension)\n",
    "print(\"Data type of this matrix: \", mat.dtype) #dtype gives the data type contained in the array\n"
   ]
  },
  {
   "cell_type": "markdown",
   "metadata": {},
   "source": [
    "## Note - input element to np.array() should be of same length - i.e. same number of elements in each input list.\n",
    "## otherwise numpy treats them as array of list and not integers\n",
    "\n",
    "For example -\n"
   ]
  },
  {
   "cell_type": "code",
   "execution_count": 79,
   "metadata": {},
   "outputs": [
    {
     "name": "stdout",
     "output_type": "stream",
     "text": [
      "Type/Class of this object: <class 'numpy.ndarray'>\n",
      "Here is the matrix\n",
      "----------\n",
      " [list([1, 2, 3, 100, 200, 700]) list([4, 5, 6, 300, 400])\n",
      " list([7, 8, 9, 500, 600])] \n",
      "----------\n",
      "Dimension of this matrix:  1\n",
      "Size of this matrix:  3\n",
      "Shape of this matrix:  (3,)\n",
      "Data type of this matrix:  object\n"
     ]
    }
   ],
   "source": [
    "my_mat = [[1,2,3,100,200,700],[4,5,6,300,400],[7,8,9,500,600]]\n",
    "mat = np.array(my_mat)\n",
    "print(\"Type/Class of this object:\",type(mat))\n",
    "print(\"Here is the matrix\\n----------\\n\",mat,\"\\n----------\")\n",
    "print(\"Dimension of this matrix: \",mat.ndim) #ndim gives the dimensison, 2 for a matrix, 1 for a vector\n",
    "print(\"Size of this matrix: \", mat.size) #size gives the total number of elements\n",
    "print(\"Shape of this matrix: \", mat.shape) #shape gives the number of elements along each axes (dimension)\n",
    "print(\"Data type of this matrix: \", mat.dtype) #dtype gives the data type contained in the array\n"
   ]
  },
  {
   "cell_type": "markdown",
   "metadata": {},
   "source": [
    "## arange() vs range()\n",
    "\n",
    "### range() - \n",
    "\n",
    "Python function which takes upto 3 arguments - start, end ,step. In this case, step = INTEGER.\n",
    "\n",
    "Returns = iterable Object\n",
    "\n",
    "### arange() - \n",
    "\n",
    "Numpy function which takes upto 3 arguments - start, end, step. In this case, step can be FLOAT/INTEGER.\n",
    "\n",
    "Returns = numpy Array"
   ]
  },
  {
   "cell_type": "code",
   "execution_count": 80,
   "metadata": {},
   "outputs": [
    {
     "data": {
      "text/plain": [
       "array([ 0.,  1.,  2.,  3.,  4.,  5.,  6.,  7.,  8.,  9., 10.])"
      ]
     },
     "execution_count": 80,
     "metadata": {},
     "output_type": "execute_result"
    }
   ],
   "source": [
    "np.arange(10.5)"
   ]
  },
  {
   "cell_type": "code",
   "execution_count": 81,
   "metadata": {},
   "outputs": [
    {
     "data": {
      "text/plain": [
       "array([5.5, 5.7, 5.9, 6.1, 6.3, 6.5, 6.7])"
      ]
     },
     "execution_count": 81,
     "metadata": {},
     "output_type": "execute_result"
    }
   ],
   "source": [
    "np.arange(5.5, 6.7, 0.2)"
   ]
  },
  {
   "cell_type": "markdown",
   "metadata": {},
   "source": [
    "## linspace()\n",
    "\n",
    "It creates an Array of equally spaced values.\n",
    "Takes input - start, end , num of elements including start and step."
   ]
  },
  {
   "cell_type": "code",
   "execution_count": 82,
   "metadata": {},
   "outputs": [
    {
     "data": {
      "text/plain": [
       "array([1.        , 2.33333333, 3.66666667, 5.        ])"
      ]
     },
     "execution_count": 82,
     "metadata": {},
     "output_type": "execute_result"
    }
   ],
   "source": [
    "np.linspace(1,5,4)"
   ]
  },
  {
   "cell_type": "code",
   "execution_count": 110,
   "metadata": {},
   "outputs": [
    {
     "data": {
      "text/plain": [
       "array([ 1.        ,  1.81818182,  2.63636364,  3.45454545,  4.27272727,\n",
       "        5.09090909,  5.90909091,  6.72727273,  7.54545455,  8.36363636,\n",
       "        9.18181818, 10.        ])"
      ]
     },
     "execution_count": 110,
     "metadata": {},
     "output_type": "execute_result"
    }
   ],
   "source": [
    "np.linspace(1,10,12)"
   ]
  },
  {
   "cell_type": "code",
   "execution_count": 115,
   "metadata": {},
   "outputs": [
    {
     "data": {
      "text/plain": [
       "array([2.  , 2.25, 2.5 , 2.75, 3.  ])"
      ]
     },
     "execution_count": 115,
     "metadata": {},
     "output_type": "execute_result"
    }
   ],
   "source": [
    "#by default it includes end point value while generating sequence.\n",
    "np.linspace(2.0, 3.0, num=5)"
   ]
  },
  {
   "cell_type": "code",
   "execution_count": 114,
   "metadata": {},
   "outputs": [
    {
     "data": {
      "text/plain": [
       "array([2. , 2.2, 2.4, 2.6, 2.8])"
      ]
     },
     "execution_count": 114,
     "metadata": {},
     "output_type": "execute_result"
    }
   ],
   "source": [
    "#ignore endpoint value while generating sequence\n",
    "np.linspace(2.0, 3.0, num=5,endpoint=False)"
   ]
  },
  {
   "cell_type": "code",
   "execution_count": 116,
   "metadata": {},
   "outputs": [
    {
     "data": {
      "text/plain": [
       "(array([2. , 2.2, 2.4, 2.6, 2.8]), 0.2)"
      ]
     },
     "execution_count": 116,
     "metadata": {},
     "output_type": "execute_result"
    }
   ],
   "source": [
    "#if you want to PRINT the size of step taken, that can also be returned using retstep option.\n",
    "np.linspace(2.0, 3.0, num=5,endpoint=False, retstep = True)"
   ]
  },
  {
   "cell_type": "markdown",
   "metadata": {},
   "source": [
    "### logspace\n",
    "\n",
    "Similar to linspace()\n",
    "\n",
    "In logspace() we return logarithmic value of input.\n",
    "\n",
    "Default base=10.\n",
    "\n",
    "np.logspace(start, stop, num=, endpoint=True,base=10,dtype=None)"
   ]
  },
  {
   "cell_type": "code",
   "execution_count": 121,
   "metadata": {},
   "outputs": [
    {
     "data": {
      "text/plain": [
       "array([ 100.        ,  177.827941  ,  316.22776602,  562.34132519,\n",
       "       1000.        ])"
      ]
     },
     "execution_count": 121,
     "metadata": {},
     "output_type": "execute_result"
    }
   ],
   "source": [
    "np.logspace(2,3,5)"
   ]
  },
  {
   "cell_type": "markdown",
   "metadata": {},
   "source": [
    "## Matrix Creation\n",
    "\n",
    "Can be done using different methods\n",
    "\n",
    "np.zeros() - creates a matrix with all values 0s.\n",
    "\n",
    "np.ones() - creates a matrix with all values 1s.\n",
    "\n",
    "np.empty() -- creates an empty matrix with random values\n",
    "\n",
    "np.eye() - creates an Identity Matrix. \n",
    "Identity Matrix is a -\n",
    "1. Square matrix.\n",
    "2. has all elements along One Diagonal as 1.\n",
    "\n",
    "These are from posn (0,0), (1,1) to (n-1,n-1) in case of an N-Dimensional Matrix\n"
   ]
  },
  {
   "cell_type": "code",
   "execution_count": 90,
   "metadata": {},
   "outputs": [
    {
     "name": "stdout",
     "output_type": "stream",
     "text": [
      "Vector of zeroes\n",
      "---------------------\n",
      "[0. 0. 0. 0. 0.]\n",
      "--------------------\n",
      "--------------------\n",
      "Matrix of zeroes\n",
      "--------------------\n",
      "[[0. 0. 0. 0.]\n",
      " [0. 0. 0. 0.]\n",
      " [0. 0. 0. 0.]]\n"
     ]
    }
   ],
   "source": [
    "print(\"Vector of zeroes\\n---------------------\")\n",
    "print(np.zeros(5))\n",
    "print (\"--------------------\")\n",
    "print (\"--------------------\")\n",
    "print(\"Matrix of zeroes\\n--------------------\")\n",
    "print(np.zeros((3,4))) # Notice Tuples"
   ]
  },
  {
   "cell_type": "code",
   "execution_count": 94,
   "metadata": {},
   "outputs": [
    {
     "name": "stdout",
     "output_type": "stream",
     "text": [
      "Vector of ones\n",
      "---------------------\n",
      "[1. 1. 1. 1. 1.]\n",
      "--------------------\n",
      "--------------------\n",
      "[[[1. 1. 1.]\n",
      "  [1. 1. 1.]]\n",
      "\n",
      " [[1. 1. 1.]\n",
      "  [1. 1. 1.]]\n",
      "\n",
      " [[1. 1. 1.]\n",
      "  [1. 1. 1.]]\n",
      "\n",
      " [[1. 1. 1.]\n",
      "  [1. 1. 1.]]]\n"
     ]
    }
   ],
   "source": [
    "print(\"Vector of ones\\n---------------------\")\n",
    "print(np.ones(5))\n",
    "print (\"--------------------\")\n",
    "print (\"--------------------\")\n",
    "print(np.ones((4,2,3))) # Note matrix dimension specified by Tuples\n"
   ]
  },
  {
   "cell_type": "code",
   "execution_count": 96,
   "metadata": {},
   "outputs": [
    {
     "name": "stdout",
     "output_type": "stream",
     "text": [
      "Matrix of 5s by multiplying each element by 5 as shown below \n",
      "---------------------\n",
      "[[5. 5. 5. 5. 5.]\n",
      " [5. 5. 5. 5. 5.]\n",
      " [5. 5. 5. 5. 5.]]\n"
     ]
    }
   ],
   "source": [
    "print(\"Matrix of 5s by multiplying each element by 5 as shown below \\n---------------------\")\n",
    "\n",
    "print(5*np.ones((3,5)))"
   ]
  },
  {
   "cell_type": "code",
   "execution_count": 108,
   "metadata": {},
   "outputs": [
    {
     "name": "stdout",
     "output_type": "stream",
     "text": [
      "Empty matrix. np.empty() -- creates an empty matrix with random values\n",
      "-------------\n",
      " [[5. 5. 5. 5. 5.]\n",
      " [5. 5. 5. 5. 5.]\n",
      " [5. 5. 5. 5. 5.]]\n"
     ]
    }
   ],
   "source": [
    "print(\"Empty matrix. np.empty() -- creates an empty matrix with random values\\n-------------\\n\", np.empty((3,5)))"
   ]
  },
  {
   "cell_type": "code",
   "execution_count": 109,
   "metadata": {},
   "outputs": [
    {
     "name": "stdout",
     "output_type": "stream",
     "text": [
      "Identity matrix of dimension (4, 4)\n",
      "\n",
      "Identity Matrix is a -\n",
      "1. Square matrix.\n",
      "2. has all elements along One Diagonal as 1.\n",
      "These are from posn (0,0), (1,1) to (n-1,n-1) in case of an N-Dimensional Matrix\n",
      "\n",
      "[[1. 0. 0. 0.]\n",
      " [0. 1. 0. 0.]\n",
      " [0. 0. 1. 0.]\n",
      " [0. 0. 0. 1.]]\n"
     ]
    }
   ],
   "source": [
    "mat1 = np.eye(4) \n",
    "print(\"Identity matrix of dimension\", mat1.shape)\n",
    "print ('''\n",
    "Identity Matrix is a -\n",
    "1. Square matrix.\n",
    "2. has all elements along One Diagonal as 1.\n",
    "These are from posn (0,0), (1,1) to (n-1,n-1) in case of an N-Dimensional Matrix\n",
    "''')\n",
    "print(mat1)"
   ]
  },
  {
   "cell_type": "markdown",
   "metadata": {},
   "source": [
    "### reshape"
   ]
  },
  {
   "cell_type": "code",
   "execution_count": 122,
   "metadata": {},
   "outputs": [
    {
     "data": {
      "text/plain": [
       "array([[0, 1, 2],\n",
       "       [3, 4, 5],\n",
       "       [6, 7, 8]])"
      ]
     },
     "execution_count": 122,
     "metadata": {},
     "output_type": "execute_result"
    }
   ],
   "source": [
    "np.arange(9).reshape(3,3)"
   ]
  },
  {
   "cell_type": "code",
   "execution_count": 126,
   "metadata": {},
   "outputs": [
    {
     "ename": "ValueError",
     "evalue": "cannot reshape array of size 9 into shape (3,4)",
     "output_type": "error",
     "traceback": [
      "\u001b[0;31m---------------------------------------------------------------------------\u001b[0m",
      "\u001b[0;31mValueError\u001b[0m                                Traceback (most recent call last)",
      "\u001b[0;32m<ipython-input-126-31263bce64e6>\u001b[0m in \u001b[0;36m<module>\u001b[0;34m\u001b[0m\n\u001b[1;32m      1\u001b[0m \u001b[0;31m#below gives error as Number of elements in array(=9) is less than dimension of array (3x4=12)\u001b[0m\u001b[0;34m\u001b[0m\u001b[0;34m\u001b[0m\u001b[0;34m\u001b[0m\u001b[0m\n\u001b[0;32m----> 2\u001b[0;31m \u001b[0mnp\u001b[0m\u001b[0;34m.\u001b[0m\u001b[0marange\u001b[0m\u001b[0;34m(\u001b[0m\u001b[0;36m9\u001b[0m\u001b[0;34m)\u001b[0m\u001b[0;34m.\u001b[0m\u001b[0mreshape\u001b[0m\u001b[0;34m(\u001b[0m\u001b[0;36m3\u001b[0m\u001b[0;34m,\u001b[0m\u001b[0;36m4\u001b[0m\u001b[0;34m)\u001b[0m\u001b[0;34m\u001b[0m\u001b[0;34m\u001b[0m\u001b[0m\n\u001b[0m",
      "\u001b[0;31mValueError\u001b[0m: cannot reshape array of size 9 into shape (3,4)"
     ]
    }
   ],
   "source": [
    "#below gives ERROR as Number of elements in array(=9) is less than dimension of array (3x4=12)\n",
    "np.arange(9).reshape(3,4)"
   ]
  },
  {
   "cell_type": "code",
   "execution_count": 127,
   "metadata": {},
   "outputs": [
    {
     "data": {
      "text/plain": [
       "array([[0, 1, 2],\n",
       "       [3, 4, 5],\n",
       "       [6, 7, 8]])"
      ]
     },
     "execution_count": 127,
     "metadata": {},
     "output_type": "execute_result"
    }
   ],
   "source": [
    "#to enable self determination of shape of array, pass at least one value in shape as +ve, and other as any random -ve value.\n",
    "np.arange(9).reshape(3,-10)"
   ]
  },
  {
   "cell_type": "code",
   "execution_count": 129,
   "metadata": {},
   "outputs": [
    {
     "data": {
      "text/plain": [
       "array([[0, 1, 2],\n",
       "       [3, 4, 5],\n",
       "       [6, 7, 8]])"
      ]
     },
     "execution_count": 129,
     "metadata": {},
     "output_type": "execute_result"
    }
   ],
   "source": [
    "np.arange(9).reshape(-10,3)"
   ]
  },
  {
   "cell_type": "code",
   "execution_count": 131,
   "metadata": {},
   "outputs": [
    {
     "data": {
      "text/plain": [
       "array([[0],\n",
       "       [1],\n",
       "       [2],\n",
       "       [3],\n",
       "       [4],\n",
       "       [5],\n",
       "       [6],\n",
       "       [7],\n",
       "       [8]])"
      ]
     },
     "execution_count": 131,
     "metadata": {},
     "output_type": "execute_result"
    }
   ],
   "source": [
    "np.arange(9).reshape(-10,1)"
   ]
  },
  {
   "cell_type": "code",
   "execution_count": 132,
   "metadata": {},
   "outputs": [
    {
     "ename": "ValueError",
     "evalue": "cannot reshape array of size 9 into shape (2)",
     "output_type": "error",
     "traceback": [
      "\u001b[0;31m---------------------------------------------------------------------------\u001b[0m",
      "\u001b[0;31mValueError\u001b[0m                                Traceback (most recent call last)",
      "\u001b[0;32m<ipython-input-132-de3c0bfe0ab6>\u001b[0m in \u001b[0;36m<module>\u001b[0;34m\u001b[0m\n\u001b[0;32m----> 1\u001b[0;31m \u001b[0mnp\u001b[0m\u001b[0;34m.\u001b[0m\u001b[0marange\u001b[0m\u001b[0;34m(\u001b[0m\u001b[0;36m9\u001b[0m\u001b[0;34m)\u001b[0m\u001b[0;34m.\u001b[0m\u001b[0mreshape\u001b[0m\u001b[0;34m(\u001b[0m\u001b[0;34m-\u001b[0m\u001b[0;36m10\u001b[0m\u001b[0;34m,\u001b[0m\u001b[0;36m2\u001b[0m\u001b[0;34m)\u001b[0m\u001b[0;34m\u001b[0m\u001b[0;34m\u001b[0m\u001b[0m\n\u001b[0m",
      "\u001b[0;31mValueError\u001b[0m: cannot reshape array of size 9 into shape (2)"
     ]
    }
   ],
   "source": [
    "np.arange(9).reshape(-10,2)   #throws error as num of elements cannot be a multiple of '2'"
   ]
  },
  {
   "cell_type": "markdown",
   "metadata": {},
   "source": [
    "### diag and diagflat\n",
    "\n",
    "\n",
    "diag - \n",
    "  \n",
    "   Extract Diagonal elements from MATRIX.\n",
    "   \n",
    "   Creates 2-D MATRIX from 1D  Array.\n",
    "\n",
    "Note - in case of np.diag() --> 'k' represents axis along which diagonal elements are to be picked.\n",
    "\n",
    "diagflat - input given as list of list/tuple etc. convert to 2D Matrix with elements of list as diagonal element of matrix.\n"
   ]
  },
  {
   "cell_type": "code",
   "execution_count": 6,
   "metadata": {},
   "outputs": [
    {
     "data": {
      "text/plain": [
       "array([[1, 2, 3],\n",
       "       [4, 5, 6],\n",
       "       [7, 8, 9]])"
      ]
     },
     "execution_count": 6,
     "metadata": {},
     "output_type": "execute_result"
    }
   ],
   "source": [
    "x = np.arange(1,10,1).reshape((3,3))\n",
    "x"
   ]
  },
  {
   "cell_type": "code",
   "execution_count": 9,
   "metadata": {},
   "outputs": [
    {
     "data": {
      "text/plain": [
       "array([1, 5, 9])"
      ]
     },
     "execution_count": 9,
     "metadata": {},
     "output_type": "execute_result"
    }
   ],
   "source": [
    "np.diag(x)"
   ]
  },
  {
   "cell_type": "code",
   "execution_count": 10,
   "metadata": {},
   "outputs": [
    {
     "name": "stdout",
     "output_type": "stream",
     "text": [
      "[7]\n",
      "[4 8]\n",
      "[1 5 9]\n",
      "[2 6]\n",
      "[3]\n"
     ]
    }
   ],
   "source": [
    "'''\n",
    "In case of np.diag() --> 'k' represents axis along which diagonal elements are to be picked.\n",
    "\n",
    " k  0  1  2\n",
    " 0 [1  2  3]\n",
    "-1 [4  5  6]\n",
    "-2 [7  8  9]\n",
    "\n",
    "\n",
    "k = 0 --> 1, 5, 9\n",
    "k = 1 --> 2, 6\n",
    "k = 2 --> 3\n",
    "k = -1 -> 4, 8\n",
    "k = -2 -> 7\n",
    "\n",
    "'''\n",
    "\n",
    "print (np.diag(x, k=-2))\n",
    "print (np.diag(x, k=-1))\n",
    "print (np.diag(x, k=0))\n",
    "print (np.diag(x, k=1))\n",
    "print (np.diag(x, k=2))"
   ]
  },
  {
   "cell_type": "code",
   "execution_count": 8,
   "metadata": {},
   "outputs": [
    {
     "data": {
      "text/plain": [
       "array([[1, 0, 0],\n",
       "       [0, 5, 0],\n",
       "       [0, 0, 9]])"
      ]
     },
     "execution_count": 8,
     "metadata": {},
     "output_type": "execute_result"
    }
   ],
   "source": [
    "y = np.diag(x)\n",
    "np.diag(y)"
   ]
  },
  {
   "cell_type": "code",
   "execution_count": 14,
   "metadata": {},
   "outputs": [
    {
     "data": {
      "text/plain": [
       "array([[1, 0, 0, 0],\n",
       "       [0, 2, 0, 0],\n",
       "       [0, 0, 3, 0],\n",
       "       [0, 0, 0, 4]])"
      ]
     },
     "execution_count": 14,
     "metadata": {},
     "output_type": "execute_result"
    }
   ],
   "source": [
    "nested_list = [[1,2],[3,4]]\n",
    "np.diagflat(nested_list)\n"
   ]
  },
  {
   "cell_type": "code",
   "execution_count": 15,
   "metadata": {},
   "outputs": [
    {
     "data": {
      "text/plain": [
       "array([[0, 1, 0, 0, 0],\n",
       "       [0, 0, 2, 0, 0],\n",
       "       [0, 0, 0, 3, 0],\n",
       "       [0, 0, 0, 0, 4],\n",
       "       [0, 0, 0, 0, 0]])"
      ]
     },
     "execution_count": 15,
     "metadata": {},
     "output_type": "execute_result"
    }
   ],
   "source": [
    "#using different axis by setting 'k'.\n",
    "np.diagflat(nested_list,k=1)\n"
   ]
  },
  {
   "cell_type": "markdown",
   "metadata": {},
   "source": [
    "### triangular matrices: \n",
    "\n",
    "np.tri() -An array with ones at and below the given diagonal and zeros elsewhere.\n",
    "\n",
    "np.tril() = lower triangular matrix - return a Lower triangle of an array.\n",
    "\n",
    "np.triu() - upper triangular matrix - return a upper triangle of an array."
   ]
  },
  {
   "cell_type": "code",
   "execution_count": 16,
   "metadata": {},
   "outputs": [
    {
     "data": {
      "text/plain": [
       "array([[1, 1, 0, 0, 0],\n",
       "       [1, 1, 1, 0, 0],\n",
       "       [1, 1, 1, 1, 0]])"
      ]
     },
     "execution_count": 16,
     "metadata": {},
     "output_type": "execute_result"
    }
   ],
   "source": [
    "np.tri(3, 5, k=1, dtype=int)"
   ]
  },
  {
   "cell_type": "code",
   "execution_count": 17,
   "metadata": {},
   "outputs": [
    {
     "data": {
      "text/plain": [
       "array([[0., 0., 0., 0., 0.],\n",
       "       [1., 0., 0., 0., 0.],\n",
       "       [1., 1., 0., 0., 0.]])"
      ]
     },
     "execution_count": 17,
     "metadata": {},
     "output_type": "execute_result"
    }
   ],
   "source": [
    "np.tri(3, 5,k=-1)"
   ]
  },
  {
   "cell_type": "code",
   "execution_count": 18,
   "metadata": {},
   "outputs": [
    {
     "data": {
      "text/plain": [
       "array([[1, 0, 0],\n",
       "       [4, 5, 0],\n",
       "       [7, 8, 9]])"
      ]
     },
     "execution_count": 18,
     "metadata": {},
     "output_type": "execute_result"
    }
   ],
   "source": [
    "np.tril([[1,2,3],[4,5,6],[7,8,9]], k=0)"
   ]
  },
  {
   "cell_type": "code",
   "execution_count": 19,
   "metadata": {},
   "outputs": [
    {
     "data": {
      "text/plain": [
       "array([[1, 2, 0],\n",
       "       [4, 5, 6],\n",
       "       [7, 8, 9]])"
      ]
     },
     "execution_count": 19,
     "metadata": {},
     "output_type": "execute_result"
    }
   ],
   "source": [
    "np.tril([[1,2,3],[4,5,6],[7,8,9]], k=1)"
   ]
  },
  {
   "cell_type": "code",
   "execution_count": 20,
   "metadata": {},
   "outputs": [
    {
     "data": {
      "text/plain": [
       "array([[1, 2, 3],\n",
       "       [0, 5, 6],\n",
       "       [0, 0, 9]])"
      ]
     },
     "execution_count": 20,
     "metadata": {},
     "output_type": "execute_result"
    }
   ],
   "source": [
    "np.triu([[1,2,3],[4,5,6],[7,8,9]], k=0)"
   ]
  },
  {
   "cell_type": "code",
   "execution_count": 21,
   "metadata": {},
   "outputs": [
    {
     "data": {
      "text/plain": [
       "array([[0, 2, 3],\n",
       "       [0, 0, 6],\n",
       "       [0, 0, 0]])"
      ]
     },
     "execution_count": 21,
     "metadata": {},
     "output_type": "execute_result"
    }
   ],
   "source": [
    "np.triu([[1,2,3],[4,5,6],[7,8,9]], k=1)"
   ]
  },
  {
   "cell_type": "code",
   "execution_count": null,
   "metadata": {},
   "outputs": [],
   "source": [
    "1.36"
   ]
  },
  {
   "cell_type": "markdown",
   "metadata": {},
   "source": [
    "# Random number generation\n",
    "\n",
    "np.random.rand()  - Random number generation (from Uniform distribution)\n",
    "\n",
    "np.random.randn() - Numbers from Normal distribution with mean=0 and standard deviation 1 i.e. standard normal\n",
    "\n",
    "np.random.randint() - Random integer vector. randint (low, high, # of samples to be drawn)"
   ]
  },
  {
   "cell_type": "code",
   "execution_count": 3,
   "metadata": {},
   "outputs": [
    {
     "name": "stdout",
     "output_type": "stream",
     "text": [
      "Random number generation (from Uniform distribution)\n",
      "[[0.63086318 0.67835049 0.23914044]\n",
      " [0.63403824 0.15183432 0.23805608]]\n"
     ]
    }
   ],
   "source": [
    "print(\"Random number generation (from Uniform distribution)\")\n",
    "print(np.random.rand(2,3)) # 2 by 3 matrix with random numbers ranging from 0 to 1, Note no Tuple is necessary "
   ]
  },
  {
   "cell_type": "code",
   "execution_count": 4,
   "metadata": {},
   "outputs": [
    {
     "name": "stdout",
     "output_type": "stream",
     "text": [
      "Numbers from Normal distribution with  mean = 0 and standard deviation = 1 i.e. standard normal\n",
      "\n",
      "In normal distribution, mean and standard deviation can be anything.\n",
      "But in case of STANDARD normal distribution, mean = 0 and standard deviation = 1.\n",
      "\n",
      "\n",
      "[[ 0.0209765  -1.60189352 -0.89518584]\n",
      " [ 0.44106771  2.51650308 -0.39156907]\n",
      " [ 2.042135    0.10860212 -0.38330018]\n",
      " [-0.05886579  0.17627089 -1.45630913]]\n"
     ]
    }
   ],
   "source": [
    "print(\"Numbers from Normal distribution with  mean = 0 and standard deviation = 1 i.e. standard normal\")\n",
    "print('''\n",
    "In normal distribution, mean and standard deviation can be anything.\n",
    "But in case of STANDARD normal distribution, mean = 0 and standard deviation = 1.\n",
    "\n",
    "''')\n",
    "print(np.random.randn(4,3))"
   ]
  },
  {
   "cell_type": "code",
   "execution_count": 4,
   "metadata": {},
   "outputs": [
    {
     "name": "stdout",
     "output_type": "stream",
     "text": [
      "Random integer vector: 2\n",
      "\n",
      "Random integer matrix.\n",
      "Note in above we didnt mention number of samples to be drawn, and so by deafult picked only 1 value.\n"
     ]
    }
   ],
   "source": [
    "print(\"Random integer vector:\",np.random.randint(1,10)) #randint (low, high, # of samples to be drawn)\n",
    "print (\"\\nRandom integer matrix.\\nNote in above we didnt mention number of samples to be drawn, and so by deafult picked only 1 value.\")\n"
   ]
  },
  {
   "cell_type": "code",
   "execution_count": 6,
   "metadata": {},
   "outputs": [
    {
     "name": "stdout",
     "output_type": "stream",
     "text": [
      "[[82 87 19 88]\n",
      " [96 69  6 41]\n",
      " [78 92 50 75]\n",
      " [66 92 36 69]]\n"
     ]
    }
   ],
   "source": [
    "print(np.random.randint(1,100,(4,4))) #randint (low, high, # of samples to be drawn in a tuple to form a matrix)\n"
   ]
  },
  {
   "cell_type": "code",
   "execution_count": 7,
   "metadata": {},
   "outputs": [
    {
     "name": "stdout",
     "output_type": "stream",
     "text": [
      "\n",
      "20 samples drawn from a dice throw: [6 3 4 4 1 6 3 1 6 3 6 6 1 4 5 2 2 5 4 4]\n"
     ]
    }
   ],
   "source": [
    "print(\"\\n20 samples drawn from a dice throw:\",np.random.randint(1,7,20)) # 20 samples drawn from a dice throw"
   ]
  },
  {
   "cell_type": "markdown",
   "metadata": {},
   "source": [
    "### Reshape"
   ]
  },
  {
   "cell_type": "code",
   "execution_count": 9,
   "metadata": {},
   "outputs": [],
   "source": [
    "from numpy.random import randint as ri"
   ]
  },
  {
   "cell_type": "code",
   "execution_count": 5,
   "metadata": {},
   "outputs": [
    {
     "data": {
      "text/plain": [
       "array([[96, 92, 79],\n",
       "       [55, 81, 81],\n",
       "       [71, 86, 25]])"
      ]
     },
     "execution_count": 5,
     "metadata": {},
     "output_type": "execute_result"
    }
   ],
   "source": [
    "np.random.randint(1,100,9).reshape(3,3)"
   ]
  },
  {
   "cell_type": "code",
   "execution_count": 6,
   "metadata": {},
   "outputs": [
    {
     "data": {
      "text/plain": [
       "array([[37, 84,  2],\n",
       "       [11, 61, 63],\n",
       "       [48,  7,  5]])"
      ]
     },
     "execution_count": 6,
     "metadata": {},
     "output_type": "execute_result"
    }
   ],
   "source": [
    "np.random.randint(1,100,(3,3))"
   ]
  },
  {
   "cell_type": "code",
   "execution_count": 7,
   "metadata": {},
   "outputs": [
    {
     "data": {
      "text/plain": [
       "array([[[34, 29, 98, 73, 67],\n",
       "        [ 2, 11, 32, 85, 21],\n",
       "        [68, 56, 75, 39, 94]],\n",
       "\n",
       "       [[71, 12, 68,  2, 17],\n",
       "        [46, 56, 31, 95, 85],\n",
       "        [16, 66, 39, 95, 90]]])"
      ]
     },
     "execution_count": 7,
     "metadata": {},
     "output_type": "execute_result"
    }
   ],
   "source": [
    "np.random.randint(1,100,30).reshape(2,3,5)  #2x3x5 matrix"
   ]
  },
  {
   "cell_type": "code",
   "execution_count": 8,
   "metadata": {},
   "outputs": [
    {
     "name": "stdout",
     "output_type": "stream",
     "text": [
      "shape of matrix \"a\" is  (2, 3, 5)\n"
     ]
    }
   ],
   "source": [
    "a = np.random.randint(1,100,30).reshape(2,3,5)\n",
    "print ('shape of matrix \"a\" is ',a.shape)"
   ]
  },
  {
   "cell_type": "markdown",
   "metadata": {},
   "source": [
    "## Sorting of vectors\n",
    "\n",
    "np.sort(df, kind=?, axis=?)\n",
    "\n",
    "kind - default = quicksort; other option - mergesort, heapsort,stable (stable sort)\n",
    "\n",
    "axis - axis = 0 --> sort along row ; \n",
    "       axis = 1 --> sort along column \n"
   ]
  },
  {
   "cell_type": "code",
   "execution_count": 10,
   "metadata": {},
   "outputs": [],
   "source": [
    "from numpy.random import randint as ri"
   ]
  },
  {
   "cell_type": "code",
   "execution_count": 12,
   "metadata": {},
   "outputs": [
    {
     "name": "stdout",
     "output_type": "stream",
     "text": [
      "\n",
      "Vector of random integers\n",
      " -------------------------------------------------- \n",
      " [67 90 33 88 16 15 14 17 21 60]\n"
     ]
    }
   ],
   "source": [
    "A = ri(1,100, 10)\n",
    "print(\"\\nVector of random integers\\n\",'-'*50,\"\\n\",A)"
   ]
  },
  {
   "cell_type": "code",
   "execution_count": 14,
   "metadata": {},
   "outputs": [
    {
     "name": "stdout",
     "output_type": "stream",
     "text": [
      "\n",
      "Here is the sorted vector\n",
      " -------------------------------------------------- \n",
      " [14 15 16 17 21 33 60 67 88 90]\n"
     ]
    }
   ],
   "source": [
    "print(\"\\nHere is the sorted vector\\n\",'-'*50,\"\\n\",np.sort(A))"
   ]
  },
  {
   "cell_type": "code",
   "execution_count": 16,
   "metadata": {},
   "outputs": [
    {
     "name": "stdout",
     "output_type": "stream",
     "text": [
      "5x5 matrix of random integers\n"
     ]
    },
    {
     "data": {
      "text/plain": [
       "array([[77, 18, 69, 19, 87],\n",
       "       [18, 65, 98, 10, 44],\n",
       "       [ 1, 55,  4, 26, 18],\n",
       "       [25, 91, 93, 17, 65],\n",
       "       [83, 88,  2, 61, 65]])"
      ]
     },
     "execution_count": 16,
     "metadata": {},
     "output_type": "execute_result"
    }
   ],
   "source": [
    "print ('5x5 matrix of random integers')\n",
    "A = ri(1,100,(5,5))\n",
    "A"
   ]
  },
  {
   "cell_type": "code",
   "execution_count": 22,
   "metadata": {},
   "outputs": [
    {
     "name": "stdout",
     "output_type": "stream",
     "text": [
      "Sort along Row : axis=0. That is in a column, sort along rows.\n",
      "Here X-coordinates of values are changing.\n",
      "Y-coordinates are intact.\n"
     ]
    },
    {
     "data": {
      "text/plain": [
       "array([[ 1, 18,  2, 10, 18],\n",
       "       [18, 55,  4, 17, 44],\n",
       "       [25, 65, 69, 19, 65],\n",
       "       [77, 88, 93, 26, 65],\n",
       "       [83, 91, 98, 61, 87]])"
      ]
     },
     "execution_count": 22,
     "metadata": {},
     "output_type": "execute_result"
    }
   ],
   "source": [
    "print ('''Sort along Row : axis=0. That is in a column, sort along rows.\n",
    "Here X-coordinates of values are changing.\n",
    "Y-coordinates are intact.''')\n",
    "np.sort(A,axis=0)"
   ]
  },
  {
   "cell_type": "code",
   "execution_count": 21,
   "metadata": {},
   "outputs": [
    {
     "name": "stdout",
     "output_type": "stream",
     "text": [
      "Sort along Column : axis=1. That is, in a row, sort along column.\n",
      "Here Y-coordinates of values are changing.\n",
      "X-coordinates are intact.\n"
     ]
    },
    {
     "data": {
      "text/plain": [
       "array([[18, 19, 69, 77, 87],\n",
       "       [10, 18, 44, 65, 98],\n",
       "       [ 1,  4, 18, 26, 55],\n",
       "       [17, 25, 65, 91, 93],\n",
       "       [ 2, 61, 65, 83, 88]])"
      ]
     },
     "execution_count": 21,
     "metadata": {},
     "output_type": "execute_result"
    }
   ],
   "source": [
    "print ('''Sort along Column : axis=1. That is, in a row, sort along column.\n",
    "Here Y-coordinates of values are changing.\n",
    "X-coordinates are intact.''')\n",
    "np.sort(A,axis=1)"
   ]
  },
  {
   "cell_type": "markdown",
   "metadata": {},
   "source": [
    "### Max and argmax\n",
    "\n",
    "max() -- returns max value.\n",
    "\n",
    "argmax(0 -- returns position of max value."
   ]
  },
  {
   "cell_type": "code",
   "execution_count": 24,
   "metadata": {},
   "outputs": [
    {
     "data": {
      "text/plain": [
       "array([60, 44, 63, 15, 82, 83, 41, 51, 27, 80, 93, 80, 32, 90, 85, 38, 96,\n",
       "       18, 13, 26])"
      ]
     },
     "execution_count": 24,
     "metadata": {},
     "output_type": "execute_result"
    }
   ],
   "source": [
    "A = np.random.randint(1,100,20)\n",
    "A"
   ]
  },
  {
   "cell_type": "code",
   "execution_count": 25,
   "metadata": {},
   "outputs": [
    {
     "data": {
      "text/plain": [
       "96"
      ]
     },
     "execution_count": 25,
     "metadata": {},
     "output_type": "execute_result"
    }
   ],
   "source": [
    "A.max()"
   ]
  },
  {
   "cell_type": "code",
   "execution_count": 26,
   "metadata": {},
   "outputs": [
    {
     "data": {
      "text/plain": [
       "16"
      ]
     },
     "execution_count": 26,
     "metadata": {},
     "output_type": "execute_result"
    }
   ],
   "source": [
    "A.argmax()"
   ]
  },
  {
   "cell_type": "markdown",
   "metadata": {},
   "source": [
    "### Indexing and Slicing - same as that in python LIST"
   ]
  },
  {
   "cell_type": "code",
   "execution_count": 2,
   "metadata": {},
   "outputs": [
    {
     "name": "stdout",
     "output_type": "stream",
     "text": [
      "Array: [ 0  1  2  3  4  5  6  7  8  9 10]\n"
     ]
    }
   ],
   "source": [
    "arr = np.arange(0,11)\n",
    "print(\"Array:\",arr)\n"
   ]
  },
  {
   "cell_type": "code",
   "execution_count": 3,
   "metadata": {},
   "outputs": [
    {
     "name": "stdout",
     "output_type": "stream",
     "text": [
      "Elements from last backwards are: [10  9  8]\n"
     ]
    }
   ],
   "source": [
    "print(\"Elements from last backwards are:\", arr[-1:7:-1])"
   ]
  },
  {
   "cell_type": "code",
   "execution_count": 4,
   "metadata": {},
   "outputs": [
    {
     "name": "stdout",
     "output_type": "stream",
     "text": [
      "Matrix of random 2-digit numbers\n",
      "--------------------------------\n",
      " [[18 73 62 83 11]\n",
      " [51 95 51 30 69]\n",
      " [35 56 95 54 75]]\n"
     ]
    }
   ],
   "source": [
    "mat = np.array(ri(10,100,15)).reshape(3,5)\n",
    "print(\"Matrix of random 2-digit numbers\\n--------------------------------\\n\",mat)"
   ]
  },
  {
   "cell_type": "code",
   "execution_count": 5,
   "metadata": {},
   "outputs": [
    {
     "name": "stdout",
     "output_type": "stream",
     "text": [
      "Matrix with row indices 0 and 1 and column indices 1 and 3\n",
      " [[73 83]\n",
      " [95 30]]\n"
     ]
    }
   ],
   "source": [
    "print(\"Matrix with row indices 0 and 1 and column indices 1 and 3\\n\", mat[0:2,[1,3]])"
   ]
  },
  {
   "cell_type": "code",
   "execution_count": 6,
   "metadata": {},
   "outputs": [
    {
     "name": "stdout",
     "output_type": "stream",
     "text": [
      "\n",
      "Subsetting sub-matrices\n",
      "--------------------------\n",
      "Matrix with row indices 1 and 2 and column indices 3 and 4\n",
      " [[30 69]\n",
      " [54 75]]\n"
     ]
    }
   ],
   "source": [
    "print(\"\\nSubsetting sub-matrices\\n--------------------------\")\n",
    "print(\"Matrix with row indices 1 and 2 and column indices 3 and 4\\n\", mat[1:3,3:5])\n"
   ]
  },
  {
   "cell_type": "code",
   "execution_count": 13,
   "metadata": {},
   "outputs": [
    {
     "name": "stdout",
     "output_type": "stream",
     "text": [
      "Original matrix\n",
      "[[11 12 13]\n",
      " [21 22 23]\n",
      " [31 32 33]]\n",
      "\n",
      "Sliced matrix\n",
      "[[11 12]\n",
      " [21 22]]\n",
      "\n",
      "Change the sliced matrix\n",
      "[[1000   12]\n",
      " [  21   22]]\n",
      "\n",
      "But the original matrix? WHOA! It got changed too!\n",
      "[[1000   12   13]\n",
      " [  21   22   23]\n",
      " [  31   32   33]]\n",
      "-----------other way of creating sliced matrix : np.array() command-----\n",
      "\n",
      "Doing it again little differently now...\n",
      "\n",
      "Original matrix\n",
      "[[11 12 13]\n",
      " [21 22 23]\n",
      " [31 32 33]]\n",
      "\n",
      "Sliced matrix\n",
      "[[11 12]\n",
      " [21 22]]\n",
      "\n",
      "Change the sliced matrix\n",
      "[[1000   12]\n",
      " [  21   22]]\n",
      "\n",
      "But the original matrix? NO CHANGE this time:)\n",
      "[[11 12 13]\n",
      " [21 22 23]\n",
      " [31 32 33]]\n"
     ]
    }
   ],
   "source": [
    "mat = np.array([[11,12,13],[21,22,23],[31,32,33]])\n",
    "print(\"Original matrix\")\n",
    "print(mat)\n",
    "\n",
    "mat_slice = mat[:2,:2]\n",
    "print (\"\\nSliced matrix\")\n",
    "print(mat_slice)\n",
    "\n",
    "print (\"\\nChange the sliced matrix\")\n",
    "mat_slice[0,0] = 1000\n",
    "print (mat_slice)\n",
    "\n",
    "print(\"\\nBut the original matrix? WHOA! It got changed too!\")\n",
    "print(mat)\n",
    "\n",
    "\n",
    "print ('-----------other way of creating sliced matrix : np.array() command-----')\n",
    "print (\"\\nDoing it again little differently now...\\n\")\n",
    "mat = np.array([[11,12,13],[21,22,23],[31,32,33]])\n",
    "print(\"Original matrix\")\n",
    "print(mat)\n",
    "\n",
    "mat_slice = np.array(mat[:2,:2]) # Notice the np.array command to create a new array not just slicing\n",
    "print (\"\\nSliced matrix\")\n",
    "print(mat_slice)\n",
    "\n",
    "print (\"\\nChange the sliced matrix\")\n",
    "mat_slice[0,0] = 1000\n",
    "print (mat_slice)\n",
    "\n",
    "print(\"\\nBut the original matrix? NO CHANGE this time:)\")\n",
    "print(mat)"
   ]
  },
  {
   "cell_type": "markdown",
   "metadata": {},
   "source": [
    "### Subsetting"
   ]
  },
  {
   "cell_type": "code",
   "execution_count": 8,
   "metadata": {},
   "outputs": [
    {
     "name": "stdout",
     "output_type": "stream",
     "text": [
      "Matrix of random 2-digit numbers\n",
      "--------------------------------\n",
      " [[45 13 34 13 46]\n",
      " [23 46 94 36 13]\n",
      " [11 72 98 47 85]]\n"
     ]
    }
   ],
   "source": [
    "mat = np.array(ri(10,100,15)).reshape(3,5)\n",
    "print(\"Matrix of random 2-digit numbers\\n--------------------------------\\n\",mat)\n"
   ]
  },
  {
   "cell_type": "code",
   "execution_count": 9,
   "metadata": {},
   "outputs": [
    {
     "data": {
      "text/plain": [
       "array([[False, False, False, False, False],\n",
       "       [False, False,  True, False, False],\n",
       "       [False,  True,  True, False,  True]])"
      ]
     },
     "execution_count": 9,
     "metadata": {},
     "output_type": "execute_result"
    }
   ],
   "source": [
    "mat>50"
   ]
  },
  {
   "cell_type": "code",
   "execution_count": 10,
   "metadata": {},
   "outputs": [
    {
     "data": {
      "text/plain": [
       "array([94, 72, 98, 85])"
      ]
     },
     "execution_count": 10,
     "metadata": {},
     "output_type": "execute_result"
    }
   ],
   "source": [
    "mat[mat>50]"
   ]
  },
  {
   "cell_type": "markdown",
   "metadata": {},
   "source": [
    "### Universal Functions: ADD, Subtract, Multiply, Divide.\n",
    "    \n",
    "They occur element wise."
   ]
  },
  {
   "cell_type": "code",
   "execution_count": 4,
   "metadata": {},
   "outputs": [
    {
     "name": "stdout",
     "output_type": "stream",
     "text": [
      "\n",
      "1st Matrix of random single-digit numbers\n",
      "----------------------------------------\n",
      " [[2 1 3]\n",
      " [9 5 5]\n",
      " [7 2 6]]\n",
      "\n",
      "2nd Matrix of random single-digit numbers\n",
      "----------------------------------------\n",
      " [[4 1 9]\n",
      " [7 8 5]\n",
      " [2 6 8]]\n"
     ]
    }
   ],
   "source": [
    "mat1 = np.array(ri(1,10,9)).reshape(3,3)\n",
    "mat2 = np.array(ri(1,10,9)).reshape(3,3)\n",
    "print(\"\\n1st Matrix of random single-digit numbers\\n----------------------------------------\\n\",mat1)\n",
    "print(\"\\n2nd Matrix of random single-digit numbers\\n----------------------------------------\\n\",mat2)\n"
   ]
  },
  {
   "cell_type": "code",
   "execution_count": 16,
   "metadata": {},
   "outputs": [
    {
     "name": "stdout",
     "output_type": "stream",
     "text": [
      "element wise multiplication using \"*\" operator: A*B \n"
     ]
    },
    {
     "data": {
      "text/plain": [
       "array([[24, 56, 40],\n",
       "       [ 5,  6, 56],\n",
       "       [28, 20, 12]])"
      ]
     },
     "execution_count": 16,
     "metadata": {},
     "output_type": "execute_result"
    }
   ],
   "source": [
    "print ('element wise multiplication using \"*\" operator: A*B ')\n",
    "mat1*mat2"
   ]
  },
  {
   "cell_type": "code",
   "execution_count": 18,
   "metadata": {},
   "outputs": [
    {
     "name": "stdout",
     "output_type": "stream",
     "text": [
      "\n",
      "Matrix multiplication using \"@\" operator: A@B \n",
      "For 2 matrices to be able to multiple: no. of Col in A = no. of Rows in B.\n",
      "i.e. their dimensions should be : A (n x m) and B (m x z) --> resultant will have dimension n x z\n",
      "\n",
      "\n"
     ]
    },
    {
     "data": {
      "text/plain": [
       "array([[ 64,  90, 142],\n",
       "       [ 51,  69,  91],\n",
       "       [ 41,  67,  87]])"
      ]
     },
     "execution_count": 18,
     "metadata": {},
     "output_type": "execute_result"
    }
   ],
   "source": [
    "print ('''\n",
    "Matrix multiplication using \"@\" operator: A@B \n",
    "For 2 matrices to be able to multiple: no. of Col in A = no. of Rows in B.\n",
    "i.e. their dimensions should be : A (n x m) and B (m x z) --> resultant will have dimension n x z\n",
    "\n",
    "''')\n",
    "mat1@mat2"
   ]
  },
  {
   "cell_type": "code",
   "execution_count": 19,
   "metadata": {},
   "outputs": [
    {
     "name": "stdout",
     "output_type": "stream",
     "text": [
      "\n",
      "Division\n",
      "------------------\n",
      " [[inf inf inf]\n",
      " [inf inf inf]\n",
      " [inf inf inf]]\n"
     ]
    },
    {
     "name": "stderr",
     "output_type": "stream",
     "text": [
      "/usr/local/lib/python3.6/site-packages/ipykernel/__main__.py:1: RuntimeWarning: divide by zero encountered in true_divide\n",
      "  if __name__ == '__main__':\n"
     ]
    }
   ],
   "source": [
    "print(\"\\nDivision\\n------------------\\n\", mat1/0)\n",
    "#print(\"\\nLineaer combination: 3*A - 2*B\\n-----------------------------\\n\", 3*mat1-2*mat2)\n"
   ]
  },
  {
   "cell_type": "code",
   "execution_count": 20,
   "metadata": {},
   "outputs": [
    {
     "name": "stdout",
     "output_type": "stream",
     "text": [
      "\n",
      "Addition of a scalar (100)\n",
      "-------------------------\n",
      " [[106 108 108]\n",
      " [105 103 107]\n",
      " [107 105 102]]\n"
     ]
    }
   ],
   "source": [
    "print(\"\\nAddition of a scalar (100)\\n-------------------------\\n\", 100+mat1)"
   ]
  },
  {
   "cell_type": "code",
   "execution_count": 7,
   "metadata": {},
   "outputs": [
    {
     "name": "stdout",
     "output_type": "stream",
     "text": [
      "\n",
      "Exponentiation, matrix CUBE here\n",
      "----------------------------------------\n",
      " [[  8   1  27]\n",
      " [729 125 125]\n",
      " [343   8 216]]\n"
     ]
    }
   ],
   "source": [
    "print(\"\\nExponentiation, matrix CUBE here\\n----------------------------------------\\n\", mat1**3)"
   ]
  },
  {
   "cell_type": "code",
   "execution_count": 6,
   "metadata": {},
   "outputs": [
    {
     "name": "stdout",
     "output_type": "stream",
     "text": [
      "\n",
      "Exponentiation, SQUARE Root using pow() function\n",
      "-------------------------------------------\n",
      " [[1.41421356 1.         1.73205081]\n",
      " [3.         2.23606798 2.23606798]\n",
      " [2.64575131 1.41421356 2.44948974]]\n"
     ]
    }
   ],
   "source": [
    "print(\"\\nExponentiation, SQUARE Root using pow() function\\n-------------------------------------------\\n\",pow(mat1,0.5))"
   ]
  },
  {
   "cell_type": "markdown",
   "metadata": {},
   "source": [
    "### Broadcasting\n",
    "\n",
    "Arithmetic operations on arrays are usually done on corresponding elements. If two arrays are of exactly the same shape, then these operations are smoothly performed.\n",
    "The term broadcasting refers to the ability of NumPy to treat arrays of different shapes during arithmetic operations. \n",
    "\n",
    "NumPy operations are usually done on pairs of arrays on an element-by-element basis. \n",
    "\n",
    "In the simplest case, the two arrays must have exactly the same shape.\n",
    "\n",
    "NumPy’s broadcasting rule relaxes this constraint when the arrays’ shapes meet certain constraints. \n",
    "When operating on two arrays, NumPy compares their shapes element-wise. \n",
    "\n",
    "It starts with the trailing dimensions, and works its way forward. \n",
    "\n",
    "Two dimensions are compatible when they are equal, or one of them is 1."
   ]
  },
  {
   "cell_type": "code",
   "execution_count": 18,
   "metadata": {},
   "outputs": [
    {
     "data": {
      "text/plain": [
       "array([[100., 100., 100., 100.],\n",
       "       [100., 100., 100., 100.],\n",
       "       [100., 100., 100., 100.],\n",
       "       [100., 100., 100., 100.]])"
      ]
     },
     "execution_count": 18,
     "metadata": {},
     "output_type": "execute_result"
    }
   ],
   "source": [
    "#adds 100 to each element of array\n",
    "start = np.zeros((4,4))\n",
    "start= start+100\n",
    "start"
   ]
  },
  {
   "cell_type": "code",
   "execution_count": 19,
   "metadata": {},
   "outputs": [
    {
     "name": "stdout",
     "output_type": "stream",
     "text": [
      "[1 0 3 5]\n",
      "[[101. 100. 103. 105.]\n",
      " [101. 100. 103. 105.]\n",
      " [101. 100. 103. 105.]\n",
      " [101. 100. 103. 105.]]\n"
     ]
    }
   ],
   "source": [
    "# create a rank 1 ndarray with 3 values\n",
    "add_rows = np.array([1, 0,3,5])\n",
    "print(add_rows)\n",
    "\n",
    "# add to each row of 'start' using broadcasting- added row wise\n",
    "y = start + add_rows \n",
    "print(y)"
   ]
  },
  {
   "cell_type": "code",
   "execution_count": 24,
   "metadata": {},
   "outputs": [
    {
     "name": "stdout",
     "output_type": "stream",
     "text": [
      "[[0]\n",
      " [1]\n",
      " [2]\n",
      " [3]]\n",
      "[[100. 100. 100. 100.]\n",
      " [101. 101. 101. 101.]\n",
      " [102. 102. 102. 102.]\n",
      " [103. 103. 103. 103.]]\n",
      "[[200. 200. 200. 200.]\n",
      " [201. 201. 201. 201.]\n",
      " [202. 202. 202. 202.]\n",
      " [203. 203. 203. 203.]]\n"
     ]
    }
   ],
   "source": [
    "# create an ndarray which is 4 x 1 to broadcast across columns\n",
    "add_cols = np.array([[0,1,2,3]])\n",
    "add_cols = add_cols.T\n",
    "print(add_cols)\n",
    "\n",
    "\n",
    "# add to each column of 'start' using broadcasting - added column wise\n",
    "y = start + add_cols \n",
    "print(y)\n",
    "\n",
    "# this will just broadcast in both dimensions\n",
    "add_scalar = np.array([100])  \n",
    "print(start+y)"
   ]
  },
  {
   "cell_type": "markdown",
   "metadata": {},
   "source": [
    "### Array Math\n",
    "\n",
    "covers - addition, modulus, exponentiation, sqrt, log, etc\n",
    "\n",
    "np.sqrt()\n",
    "np.exp()\n",
    "np.log10()"
   ]
  },
  {
   "cell_type": "code",
   "execution_count": 25,
   "metadata": {},
   "outputs": [
    {
     "name": "stdout",
     "output_type": "stream",
     "text": [
      "\n",
      "1st Matrix of random single-digit numbers\n",
      "\n",
      " [[3 3 5]\n",
      " [3 8 9]\n",
      " [5 8 5]]\n",
      "\n",
      "2nd Matrix of random single-digit numbers\n",
      "------------\n",
      " [[1 7 8]\n",
      " [3 6 4]\n",
      " [7 4 1]]\n"
     ]
    }
   ],
   "source": [
    "mat1 = np.array(ri(1,10,9)).reshape(3,3)\n",
    "mat2 = np.array(ri(1,10,9)).reshape(3,3)\n",
    "print(\"\\n1st Matrix of random single-digit numbers\\n\\n\",mat1)\n",
    "print(\"\\n2nd Matrix of random single-digit numbers\\n------------\\n\",mat2)\n"
   ]
  },
  {
   "cell_type": "code",
   "execution_count": 31,
   "metadata": {},
   "outputs": [
    {
     "name": "stdout",
     "output_type": "stream",
     "text": [
      "\n",
      "Square-root of 1st matrix using np.sqrt() \n",
      "------------------\n",
      " [[1.73205081 1.73205081 2.23606798]\n",
      " [1.73205081 2.82842712 3.        ]\n",
      " [2.23606798 2.82842712 2.23606798]]\n"
     ]
    }
   ],
   "source": [
    "print(\"\\nSquare-root of 1st matrix using np.sqrt() \\n------------------\\n\", np.sqrt(mat1))"
   ]
  },
  {
   "cell_type": "code",
   "execution_count": 32,
   "metadata": {},
   "outputs": [
    {
     "name": "stdout",
     "output_type": "stream",
     "text": [
      "\n",
      "Exponential power of 1st matrix using np.exp() \n",
      " -------------------------------------------------- \n",
      " [[  20.08553692   20.08553692  148.4131591 ]\n",
      " [  20.08553692 2980.95798704 8103.08392758]\n",
      " [ 148.4131591  2980.95798704  148.4131591 ]]\n"
     ]
    }
   ],
   "source": [
    "print(\"\\nExponential power of 1st matrix using np.exp() \\n\",'-'*50,\"\\n\", np.exp(mat1))"
   ]
  },
  {
   "cell_type": "code",
   "execution_count": 33,
   "metadata": {},
   "outputs": [
    {
     "name": "stdout",
     "output_type": "stream",
     "text": [
      "\n",
      "10-base logarithm on 1st matrix using np.log10()\n",
      " -------------------------------------------------- \n",
      " [[0.47712125 0.47712125 0.69897   ]\n",
      " [0.47712125 0.90308999 0.95424251]\n",
      " [0.69897    0.90308999 0.69897   ]]\n"
     ]
    }
   ],
   "source": [
    "print(\"\\n10-base logarithm on 1st matrix using np.log10()\\n\",'-'*50,\"\\n\", np.log10(mat1))"
   ]
  },
  {
   "cell_type": "code",
   "execution_count": 34,
   "metadata": {},
   "outputs": [
    {
     "name": "stdout",
     "output_type": "stream",
     "text": [
      "\n",
      "Modulo reminder using np.fmod()  \n",
      " -------------------------------------------------- \n",
      " [[0 3 5]\n",
      " [0 2 1]\n",
      " [5 0 0]]\n",
      "\n",
      "Another way of getting Modulo reminder using Mat1%Mat2 \n",
      " -------------------------------------------------- \n",
      " [[0 3 5]\n",
      " [0 2 1]\n",
      " [5 0 0]]\n"
     ]
    }
   ],
   "source": [
    "print(\"\\nModulo reminder using np.fmod()  \\n\",'-'*50,\"\\n\", np.fmod(mat1,mat2))\n",
    "print(\"\\nAnother way of getting Modulo reminder using Mat1%Mat2 \\n\",'-'*50,\"\\n\", mat1%mat2)\n"
   ]
  },
  {
   "cell_type": "code",
   "execution_count": 35,
   "metadata": {},
   "outputs": [
    {
     "name": "stdout",
     "output_type": "stream",
     "text": [
      "\n",
      "Combination of functions by showing exponential decay of a sine wave\n",
      " ----------------------------------------------------------------------\n"
     ]
    },
    {
     "data": {
      "text/plain": [
       "array([ 0.        ,  0.03769911,  0.07539822, ..., 37.62371362,\n",
       "       37.66141273, 37.69911184])"
      ]
     },
     "execution_count": 35,
     "metadata": {},
     "output_type": "execute_result"
    }
   ],
   "source": [
    "print(\"\\nCombination of functions by showing exponential decay of a sine wave\\n\",'-'*70)\n",
    "A = np.linspace(0,12*np.pi,1001)\n",
    "A"
   ]
  },
  {
   "cell_type": "code",
   "execution_count": null,
   "metadata": {},
   "outputs": [],
   "source": []
  },
  {
   "cell_type": "code",
   "execution_count": null,
   "metadata": {},
   "outputs": [],
   "source": []
  }
 ],
 "metadata": {
  "kernelspec": {
   "display_name": "Python 3",
   "language": "python",
   "name": "python3"
  },
  "language_info": {
   "codemirror_mode": {
    "name": "ipython",
    "version": 3
   },
   "file_extension": ".py",
   "mimetype": "text/x-python",
   "name": "python",
   "nbconvert_exporter": "python",
   "pygments_lexer": "ipython3",
   "version": "3.6.8"
  }
 },
 "nbformat": 4,
 "nbformat_minor": 4
}
