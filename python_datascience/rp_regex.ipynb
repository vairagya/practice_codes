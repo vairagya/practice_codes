{
 "cells": [
  {
   "cell_type": "markdown",
   "metadata": {},
   "source": [
    "# Regex Python\n",
    "\n",
    "\n",
    "https://realpython.com/regex-python/\n",
    "\n",
    "https://realpython.com/regex-python-part-2/    "
   ]
  },
  {
   "cell_type": "code",
   "execution_count": 2,
   "metadata": {},
   "outputs": [],
   "source": [
    "import re"
   ]
  },
  {
   "cell_type": "code",
   "execution_count": 2,
   "metadata": {},
   "outputs": [],
   "source": [
    "s = 'foo123bar'"
   ]
  },
  {
   "cell_type": "markdown",
   "metadata": {},
   "source": [
    "### re.search()"
   ]
  },
  {
   "cell_type": "code",
   "execution_count": 3,
   "metadata": {},
   "outputs": [
    {
     "name": "stdout",
     "output_type": "stream",
     "text": [
      "Found\n"
     ]
    }
   ],
   "source": [
    "re.search('123', s)\n",
    "\n",
    "if re.search('123', s):\n",
    "    print (\"Found\")\n",
    "else:\n",
    "    print (\"not found\")"
   ]
  },
  {
   "cell_type": "markdown",
   "metadata": {},
   "source": [
    "### Python Regex Metacharacters"
   ]
  },
  {
   "cell_type": "code",
   "execution_count": 4,
   "metadata": {},
   "outputs": [],
   "source": [
    "s = 'foo123bar'"
   ]
  },
  {
   "cell_type": "code",
   "execution_count": 5,
   "metadata": {},
   "outputs": [
    {
     "data": {
      "text/plain": [
       "<_sre.SRE_Match object; span=(3, 6), match='123'>"
      ]
     },
     "execution_count": 5,
     "metadata": {},
     "output_type": "execute_result"
    }
   ],
   "source": [
    "re.search('[0-9][0-9][0-9]', s)"
   ]
  },
  {
   "cell_type": "code",
   "execution_count": 6,
   "metadata": {},
   "outputs": [
    {
     "name": "stdout",
     "output_type": "stream",
     "text": [
      "None\n"
     ]
    }
   ],
   "source": [
    "#  string that doesn’t contain three consecutive digits won’t match\n",
    "print(re.search('[0-9][0-9][0-9]', '12foo34'))"
   ]
  },
  {
   "cell_type": "markdown",
   "metadata": {},
   "source": [
    "#### The dot (.) metacharacter matches any character except a newline, so it functions like a wildcard"
   ]
  },
  {
   "cell_type": "code",
   "execution_count": 8,
   "metadata": {},
   "outputs": [
    {
     "name": "stdout",
     "output_type": "stream",
     "text": [
      "<_sre.SRE_Match object; span=(3, 6), match='123'>\n",
      "None\n"
     ]
    }
   ],
   "source": [
    "s = 'foo123bar'\n",
    "print(re.search('1.3', s))\n",
    "\n",
    "s = 'foo13bar'\n",
    "print(re.search('1.3', s))"
   ]
  },
  {
   "cell_type": "markdown",
   "metadata": {},
   "source": [
    "\n",
    "'.' is any char except newline; \n",
    "\n",
    "'?' any char zero or one occurence;\n",
    "\n",
    "^ = start and $ = end of string\n",
    "\n",
    "for repetition ->\n",
    "\n",
    "'*'  is zero or more repitition; \n",
    "\n",
    "'+' is 1 or more repitition\n",
    "\n",
    "{}\tMatches an explicitly specified number of repetitions\n",
    "\n",
    "\n",
    "Special char -\n",
    "\n",
    "\\\t Escapes a metacharacter of its special meaning\n",
    "    \n",
    "[]\tSpecifies a character class\n",
    "\n",
    "|\tDesignates alternation\n",
    "\n",
    "()\tCreates a group\n"
   ]
  },
  {
   "cell_type": "markdown",
   "metadata": {},
   "source": [
    "### Character Class\n",
    "\n",
    "Characters contained in square brackets ([  ]) represent a character class—an enumerated set of characters to match from. A character class metacharacter sequence will match any single character contained in the class."
   ]
  },
  {
   "cell_type": "code",
   "execution_count": 3,
   "metadata": {},
   "outputs": [
    {
     "data": {
      "text/plain": [
       "<_sre.SRE_Match object; span=(3, 6), match='bar'>"
      ]
     },
     "execution_count": 3,
     "metadata": {},
     "output_type": "execute_result"
    }
   ],
   "source": [
    "re.search('ba[artz]', 'foobarqux')"
   ]
  },
  {
   "cell_type": "code",
   "execution_count": 4,
   "metadata": {},
   "outputs": [
    {
     "data": {
      "text/plain": [
       "<_sre.SRE_Match object; span=(3, 4), match='b'>"
      ]
     },
     "execution_count": 4,
     "metadata": {},
     "output_type": "execute_result"
    }
   ],
   "source": [
    "re.search('[a-z]', 'FOObar')"
   ]
  },
  {
   "cell_type": "code",
   "execution_count": 5,
   "metadata": {},
   "outputs": [
    {
     "data": {
      "text/plain": [
       "<_sre.SRE_Match object; span=(3, 5), match='12'>"
      ]
     },
     "execution_count": 5,
     "metadata": {},
     "output_type": "execute_result"
    }
   ],
   "source": [
    "re.search('[0-9][0-9]', 'foo123bar')"
   ]
  },
  {
   "cell_type": "code",
   "execution_count": 6,
   "metadata": {},
   "outputs": [
    {
     "data": {
      "text/plain": [
       "<_sre.SRE_Match object; span=(4, 5), match='a'>"
      ]
     },
     "execution_count": 6,
     "metadata": {},
     "output_type": "execute_result"
    }
   ],
   "source": [
    "#identify hex value\n",
    "re.search('[0-9a-fA-f]', '--- a0 ---')"
   ]
  },
  {
   "cell_type": "code",
   "execution_count": 7,
   "metadata": {},
   "outputs": [
    {
     "data": {
      "text/plain": [
       "<_sre.SRE_Match object; span=(5, 6), match='f'>"
      ]
     },
     "execution_count": 7,
     "metadata": {},
     "output_type": "execute_result"
    }
   ],
   "source": [
    "# In the following example, [^0-9] matches any character that isn’t a digit:\n",
    "\n",
    "re.search('[^0-9]', '12345foo')"
   ]
  },
  {
   "cell_type": "code",
   "execution_count": 9,
   "metadata": {},
   "outputs": [
    {
     "data": {
      "text/plain": [
       "<_sre.SRE_Match object; span=(0, 1), match='1'>"
      ]
     },
     "execution_count": 9,
     "metadata": {},
     "output_type": "execute_result"
    }
   ],
   "source": [
    "# In the following example, ^[0-9] matches any character that starts with a digit:\n",
    "\n",
    "re.search('^[0-9]', '12345foo')"
   ]
  },
  {
   "cell_type": "code",
   "execution_count": 11,
   "metadata": {},
   "outputs": [
    {
     "name": "stdout",
     "output_type": "stream",
     "text": [
      "<_sre.SRE_Match object; span=(3, 4), match='-'>\n"
     ]
    }
   ],
   "source": [
    "#  What if you want the character class to include a literal hyphen character? \n",
    "# You can place it as the first or last character or escape it with a backslash (\\):\n",
    "\n",
    "print (re.search('[ab\\-c]', '123-456'))\n"
   ]
  },
  {
   "cell_type": "code",
   "execution_count": 12,
   "metadata": {},
   "outputs": [
    {
     "data": {
      "text/plain": [
       "<_sre.SRE_Match object; span=(5, 6), match=']'>"
      ]
     },
     "execution_count": 12,
     "metadata": {},
     "output_type": "execute_result"
    }
   ],
   "source": [
    "# If you want to include a literal ']' in a character class\n",
    "\n",
    "re.search('[ab\\]cd]', 'foo[1]')"
   ]
  },
  {
   "cell_type": "code",
   "execution_count": 15,
   "metadata": {},
   "outputs": [
    {
     "data": {
      "text/plain": [
       "<_sre.SRE_Match object; span=(3, 4), match='*'>"
      ]
     },
     "execution_count": 15,
     "metadata": {},
     "output_type": "execute_result"
    }
   ],
   "source": [
    "# Other regex metacharacters lose their special meaning inside a character class:\n",
    "\n",
    "re.search('[)*+|]', '123*456')"
   ]
  },
  {
   "cell_type": "markdown",
   "metadata": {},
   "source": [
    "#### \\w  and     \\W    Match based on whether a character is/is not  a word character.\n",
    "\n",
    "\\w matches any alphanumeric word character. \n",
    "Word characters are uppercase and lowercase letters, digits, and the underscore (_) character, so \\w is essentially shorthand for [a-zA-Z0-9_]\n",
    "\n",
    "\\W is the opposite. It matches any non-word character and is equivalent to [^a-zA-Z0-9_]\n"
   ]
  },
  {
   "cell_type": "code",
   "execution_count": 23,
   "metadata": {},
   "outputs": [
    {
     "name": "stdout",
     "output_type": "stream",
     "text": [
      "<_sre.SRE_Match object; span=(3, 4), match='a'>\n",
      "<_sre.SRE_Match object; span=(3, 4), match='a'>\n"
     ]
    }
   ],
   "source": [
    "print (re.search('\\w', '#(.a$@&'))\n",
    "\n",
    "print (re.search('[a-zA-Z0-9_]', '#(.a$@&'))"
   ]
  },
  {
   "cell_type": "code",
   "execution_count": 22,
   "metadata": {},
   "outputs": [
    {
     "name": "stdout",
     "output_type": "stream",
     "text": [
      "<_sre.SRE_Match object; span=(3, 4), match='*'>\n",
      "<_sre.SRE_Match object; span=(3, 4), match='*'>\n"
     ]
    }
   ],
   "source": [
    "print (re.search('\\W', 'a_1*3Qb'))\n",
    "\n",
    "print (re.search('[^a-zA-Z0-9_]', 'a_1*3Qb'))"
   ]
  },
  {
   "cell_type": "markdown",
   "metadata": {},
   "source": [
    "### \\d and  \\D  Match based on whether a character is or is not a decimal digit.\n",
    "\n",
    "\\d matches any decimal digit character. \n",
    "\n",
    "\\D is the opposite. It matches any character that isn’t a decimal digit:"
   ]
  },
  {
   "cell_type": "code",
   "execution_count": 24,
   "metadata": {},
   "outputs": [
    {
     "name": "stdout",
     "output_type": "stream",
     "text": [
      "<_sre.SRE_Match object; span=(3, 4), match='4'>\n",
      "<_sre.SRE_Match object; span=(0, 1), match='a'>\n"
     ]
    }
   ],
   "source": [
    "print (re.search('\\d', 'abc4def'))\n",
    "print (re.search('\\D', 'abc4def'))\n"
   ]
  },
  {
   "cell_type": "markdown",
   "metadata": {},
   "source": [
    "\\s  and \\S  Match based on whether a character represents whitespace or not.\n",
    "\n",
    "\\s matches any whitespace character\n",
    "\n",
    "\\S matches any non-whitespace character:"
   ]
  },
  {
   "cell_type": "code",
   "execution_count": 26,
   "metadata": {},
   "outputs": [
    {
     "name": "stdout",
     "output_type": "stream",
     "text": [
      "<_sre.SRE_Match object; span=(3, 4), match='\\n'>\n",
      "<_sre.SRE_Match object; span=(4, 5), match='f'>\n"
     ]
    }
   ],
   "source": [
    "print (re.search('\\s', 'foo\\nbar baz'))\n",
    "\n",
    "print (re.search('\\S', '  \\n foo  \\n  '))"
   ]
  },
  {
   "cell_type": "markdown",
   "metadata": {},
   "source": [
    "The character class sequences \\w, \\W, \\d, \\D, \\s, and \\S can appear inside a square bracket character class as well.\n",
    "\n",
    "In this case, [\\d\\w\\s] matches any digit, word, or whitespace character. \n"
   ]
  },
  {
   "cell_type": "code",
   "execution_count": 27,
   "metadata": {},
   "outputs": [
    {
     "name": "stdout",
     "output_type": "stream",
     "text": [
      "<_sre.SRE_Match object; span=(3, 4), match='3'>\n",
      "<_sre.SRE_Match object; span=(3, 4), match='a'>\n",
      "<_sre.SRE_Match object; span=(3, 4), match=' '>\n"
     ]
    }
   ],
   "source": [
    "print (re.search('[\\d\\w\\s]', '---3---'))\n",
    "\n",
    "print (re.search('[\\d\\w\\s]', '---a---'))\n",
    "\n",
    "print (re.search('[\\d\\w\\s]', '--- ---'))"
   ]
  },
  {
   "cell_type": "markdown",
   "metadata": {},
   "source": [
    "### Escaping Metacharacters\n",
    "Occasionally, you’ll want to include a metacharacter in your regex, except you won’t want it to carry its special meaning. Instead, you’ll want it to represent itself as a literal character."
   ]
  },
  {
   "cell_type": "markdown",
   "metadata": {},
   "source": [
    "backslash (\\\\)\n",
    "\n",
    "Removes the special meaning of a metacharacter."
   ]
  },
  {
   "cell_type": "code",
   "execution_count": 34,
   "metadata": {},
   "outputs": [
    {
     "name": "stdout",
     "output_type": "stream",
     "text": [
      "<_sre.SRE_Match object; span=(0, 1), match='f'>\n",
      "<_sre.SRE_Match object; span=(3, 4), match='.'>\n"
     ]
    }
   ],
   "source": [
    "print (re.search('.', 'foo.bar'))\n",
    "print (re.search('\\.', 'foo.bar'))\n"
   ]
  },
  {
   "cell_type": "markdown",
   "metadata": {},
   "source": [
    "### Handling of \\\\ in a string is tedious. soln is to use RAW STRING instead of double backslash"
   ]
  },
  {
   "cell_type": "code",
   "execution_count": 41,
   "metadata": {},
   "outputs": [
    {
     "name": "stdout",
     "output_type": "stream",
     "text": [
      "<_sre.SRE_Match object; span=(3, 4), match='\\\\'>\n"
     ]
    }
   ],
   "source": [
    "print (re.search(r'\\\\', r'foo\\bbar'))"
   ]
  },
  {
   "cell_type": "markdown",
   "metadata": {},
   "source": [
    "##### Python raw string is created by prefixing a string literal with ‘r’ or ‘R’. \n",
    "\n",
    "Python raw string treats backslash (\\) as a literal character. This is useful when we want to have a string that contains backslash and don’t want it to be treated as an escape character.\n",
    "\n",
    "we can’t create a raw string of single backslash. So, r'\\\\' is WRONG.\n",
    "\n",
    "A raw string can’t have an odd number of backslashes at the end. So, r'ab\\\\\\\\\\\\' is WRONG.\n"
   ]
  },
  {
   "cell_type": "code",
   "execution_count": 38,
   "metadata": {},
   "outputs": [
    {
     "name": "stdout",
     "output_type": "stream",
     "text": [
      "Hi\n",
      "Hello\n"
     ]
    }
   ],
   "source": [
    "s = 'Hi\\nHello'\n",
    "print(s)"
   ]
  },
  {
   "cell_type": "code",
   "execution_count": 39,
   "metadata": {},
   "outputs": [
    {
     "name": "stdout",
     "output_type": "stream",
     "text": [
      "Hi\\nHello\n"
     ]
    }
   ],
   "source": [
    "raw_s = r'Hi\\nHello'\n",
    "print(raw_s)"
   ]
  },
  {
   "cell_type": "code",
   "execution_count": 40,
   "metadata": {},
   "outputs": [
    {
     "name": "stdout",
     "output_type": "stream",
     "text": [
      "Hi\\xHello\n"
     ]
    }
   ],
   "source": [
    "s = r'Hi\\xHello'\n",
    "print(s)"
   ]
  },
  {
   "cell_type": "code",
   "execution_count": 42,
   "metadata": {},
   "outputs": [
    {
     "name": "stdout",
     "output_type": "stream",
     "text": [
      "<_sre.SRE_Match object; span=(0, 3), match='foo'>\n",
      "<_sre.SRE_Match object; span=(3, 6), match='bar'>\n"
     ]
    }
   ],
   "source": [
    "print (re.search('^foo', 'foobar'))\n",
    "print (re.search('bar$', 'foobar'))"
   ]
  },
  {
   "cell_type": "markdown",
   "metadata": {},
   "source": [
    "#### Quantifiers\n",
    "A quantifier metacharacter immediately follows a portion of a <regex> and indicates how many times that portion must occur for the match to succeed.\n",
    "    \n",
    "They include -\n",
    "    \n",
    "    '*'   Zero or more repetition of the preceding regex.\n",
    "    \n",
    "    '+'   One or more repetiion of the preceding regex.\n",
    "    \n",
    "    '?'   zero or one repetition of the preceding regex.\n",
    "    \n",
    "    {m}   exactly 'm' repetition of the preceding regex.\n",
    "    \n",
    "    {m,n} between 'm' and 'n' repetition of the preceding regex\n",
    "    "
   ]
  },
  {
   "cell_type": "code",
   "execution_count": 64,
   "metadata": {},
   "outputs": [
    {
     "name": "stdout",
     "output_type": "stream",
     "text": [
      " *\n",
      "<_sre.SRE_Match object; span=(0, 6), match='foobar'>\n",
      "<_sre.SRE_Match object; span=(0, 7), match='foo-bar'>\n",
      "<_sre.SRE_Match object; span=(0, 8), match='foo--bar'>\n",
      "\n",
      " +\n",
      "None\n",
      "<_sre.SRE_Match object; span=(0, 7), match='foo-bar'>\n",
      "<_sre.SRE_Match object; span=(0, 8), match='foo--bar'>\n",
      "\n",
      " ?\n",
      "<_sre.SRE_Match object; span=(0, 6), match='foobar'>\n",
      "<_sre.SRE_Match object; span=(0, 7), match='foo-bar'>\n",
      "None\n",
      "\n",
      " {m}\n",
      "None\n",
      "None\n",
      "<_sre.SRE_Match object; span=(0, 5), match='x---x'>\n",
      "None\n",
      "None\n",
      "None\n",
      "\n",
      " {m,n}\n",
      "<_sre.SRE_Match object; span=(0, 4), match='x--x'>\n",
      "<_sre.SRE_Match object; span=(0, 5), match='x---x'>\n",
      "None\n"
     ]
    }
   ],
   "source": [
    "print (' *')\n",
    "print (re.search('foo-*bar', 'foobar'))\n",
    "print (re.search('foo-*bar', 'foo-bar'))\n",
    "print (re.search('foo-*bar', 'foo--bar'))\n",
    "print ('\\n +')\n",
    "print (re.search('foo-+bar', 'foobar'))\n",
    "print (re.search('foo-+bar', 'foo-bar'))\n",
    "print (re.search('foo-+bar', 'foo--bar'))\n",
    "print ('\\n ?')\n",
    "print (re.search('foo-?bar', 'foobar'))\n",
    "print (re.search('foo-?bar', 'foo-bar'))\n",
    "print (re.search('foo-?bar', 'foo--bar'))\n",
    "print ('\\n {m}')\n",
    "print (print(re.search('x-{3}x', 'x--x')))\n",
    "print (print(re.search('x-{3}x', 'x---x')))\n",
    "print (print(re.search('x-{3}x', 'x----x')))\n",
    "print ('\\n {m,n}')\n",
    "print (re.search('x-{2,3}x', 'x--x'))\n",
    "print (re.search('x-{2,3}x', 'x---x'))\n",
    "print (re.search('x-{2,3}x', 'x----x'))\n",
    "\n"
   ]
  },
  {
   "cell_type": "markdown",
   "metadata": {},
   "source": [
    "#### +, * , ? When used alone, the quantifier metacharacters *, +, and ? are all greedy, meaning they produce the longest possible match.\n",
    "\n",
    "Consider below example -"
   ]
  },
  {
   "cell_type": "code",
   "execution_count": 49,
   "metadata": {},
   "outputs": [
    {
     "data": {
      "text/plain": [
       "<_sre.SRE_Match object; span=(1, 18), match='<foo> <bar> <baz>'>"
      ]
     },
     "execution_count": 49,
     "metadata": {},
     "output_type": "execute_result"
    }
   ],
   "source": [
    "re.search('<.*>', '%<foo> <bar> <baz>%')   #note the span"
   ]
  },
  {
   "cell_type": "markdown",
   "metadata": {},
   "source": [
    "#### *? , +?, ??  -- The non-greedy (or lazy) versions of the *, +, and ? quantifiers. If you want the shortest possible match instead, then use the non-greedy metacharacter sequence.\n",
    "\n",
    "Consider below example -"
   ]
  },
  {
   "cell_type": "code",
   "execution_count": 56,
   "metadata": {},
   "outputs": [
    {
     "name": "stdout",
     "output_type": "stream",
     "text": [
      "<_sre.SRE_Match object; span=(1, 6), match='<foo>'>\n",
      "\n",
      "In below, the greedy version, ?, matches one occurrence, so ba? matches 'b' followed by a single 'a'. \n",
      "The non-greedy version, ??, matches zero occurrences, so ba?? matches just 'b'.\n",
      "<_sre.SRE_Match object; span=(0, 2), match='ba'>\n",
      "<_sre.SRE_Match object; span=(0, 1), match='b'>\n"
     ]
    }
   ],
   "source": [
    "print (re.search('<.*?>', '%<foo> <bar> <baz>%') )   #note the span\n",
    "\n",
    "\n",
    "print ('''\\nIn below, the greedy version, ?, matches one occurrence, so ba? matches 'b' followed by a single 'a'. \n",
    "The non-greedy version, ??, matches zero occurrences, so ba?? matches just 'b'.''')\n",
    "print (re.search('ba?', 'baaaa'))\n",
    "print (re.search('ba??', 'baaaa'))\n"
   ]
  },
  {
   "cell_type": "markdown",
   "metadata": {},
   "source": [
    "#### Grouping Constructs and Backreferences\n",
    "Grouping constructs break up a regex in Python into subexpressions or groups.\n",
    "\n",
    "(<regex>)\n",
    "\n",
    "Defines a subexpression or group.\n",
    "    \n",
    "bar+\t  The + metacharacter applies only to the character 'r'\n",
    "\n",
    "(bar)+\t  The + metacharacter applies to the entire string 'bar'.\t One or more occurrences of 'bar'\n",
    "\n",
    "foo(bar)?\t'foo' optionally followed by 'bar'\n",
    "    \n",
    "(foo(bar)?)+\tOne or more occurrences of the above\n",
    "\n",
    "\\d\\d\\d\tThree decimal digit characters\n",
    "    \n",
    "(\\d\\d\\d)?\tZero or one occurrences of the above    "
   ]
  },
  {
   "cell_type": "code",
   "execution_count": 66,
   "metadata": {},
   "outputs": [
    {
     "name": "stdout",
     "output_type": "stream",
     "text": [
      "<_sre.SRE_Match object; span=(4, 7), match='bar'>\n",
      "<_sre.SRE_Match object; span=(4, 7), match='bar'>\n",
      "<_sre.SRE_Match object; span=(4, 16), match='barbarbarbar'>\n",
      "\n",
      "\n",
      "<_sre.SRE_Match object; span=(0, 6), match='barbar'>\n",
      "<_sre.SRE_Match object; span=(0, 9), match='foofoobar'>\n",
      "<_sre.SRE_Match object; span=(0, 12), match='foofoobar123'>\n",
      "<_sre.SRE_Match object; span=(0, 9), match='foofoo123'>\n"
     ]
    }
   ],
   "source": [
    "print (re.search('(bar)', 'foo bar baz'))\n",
    "print (re.search('(bar)+', 'foo bar baz'))\n",
    "print ( re.search('(bar)+', 'foo barbarbarbar baz'))\n",
    "print ('\\n')\n",
    "print ( re.search('(ba[rz]){2,4}(qux)?', 'barbar'))\n",
    "\n",
    "print (re.search('(foo(bar)?)+(\\d\\d\\d)?', 'foofoobar'))\n",
    "print (re.search('(foo(bar)?)+(\\d\\d\\d)?', 'foofoobar123'))\n",
    "print (re.search('(foo(bar)?)+(\\d\\d\\d)?', 'foofoo123'))"
   ]
  },
  {
   "cell_type": "markdown",
   "metadata": {},
   "source": [
    "##### m.groups() \n",
    "Returns a tuple containing all the captured groups from a regex match."
   ]
  },
  {
   "cell_type": "code",
   "execution_count": 71,
   "metadata": {},
   "outputs": [
    {
     "name": "stdout",
     "output_type": "stream",
     "text": [
      "('foobar', 'bar', None)\n",
      "('foo', 'quux', 'baz')\n"
     ]
    }
   ],
   "source": [
    "m = re.search('(foo(bar)?)+(\\d\\d\\d)?', 'foofoobar')\n",
    "print (m.groups() )\n",
    "\n",
    "m = re.search('(\\w+),(\\w+),(\\w+)', 'foo,quux,baz')\n",
    "print (m.groups() )\n",
    "\n"
   ]
  },
  {
   "cell_type": "markdown",
   "metadata": {},
   "source": [
    "##### m.group()   \n",
    "Returns a string containing the <n>th captured match. With one argument, .group() returns a single captured match. Note that the arguments are one-based, not zero-based. So, m.group(1) refers to the first captured match, m.group(2) to the second, and so on."
   ]
  },
  {
   "cell_type": "code",
   "execution_count": 77,
   "metadata": {},
   "outputs": [
    {
     "name": "stdout",
     "output_type": "stream",
     "text": [
      "foobar\n",
      "bar\n",
      "None\n",
      "\n",
      "\n",
      "foo\n",
      "quux\n",
      "baz\n",
      "\n",
      "\n",
      "m.group(0) has a special meaning. m.group(0) returns the entire match, and m.group() does the same. \n",
      "foo,quux,baz\n",
      "\n",
      "\n",
      "('baz', 'quux', 'foo')\n"
     ]
    }
   ],
   "source": [
    "m = re.search('(foo(bar)?)+(\\d\\d\\d)?', 'foofoobar')\n",
    "print (m.group(1))\n",
    "print (m.group(2))\n",
    "print (m.group(3))\n",
    "print ('\\n')\n",
    "m = re.search('(\\w+),(\\w+),(\\w+)', 'foo,quux,baz')\n",
    "print (m.group(1))\n",
    "print (m.group(2))\n",
    "print (m.group(3))\n",
    "print ('\\n')\n",
    "print ( '''m.group(0) has a special meaning. m.group(0) returns the entire match, and m.group() does the same. ''')\n",
    "print (m.group(0))\n",
    "print ('\\n')\n",
    "print (m.group(3, 2, 1))"
   ]
  },
  {
   "cell_type": "markdown",
   "metadata": {},
   "source": [
    "### Searching Functions\n",
    "\n",
    "#### re.match()    Looks for a regex match at the beginning of a string. Same as re.search('^pattern', s)\n",
    "#### re.fullmatch()    Looks for a regex match on an entire string. Same as re.search('^patters$', s)\n",
    "#### re.findall()\tReturns a list of all regex matches in a string. IMP\n",
    "#### re.finditer()\tReturns an iterator that yields regex matches from a string. IMP"
   ]
  },
  {
   "cell_type": "code",
   "execution_count": 81,
   "metadata": {},
   "outputs": [
    {
     "name": "stdout",
     "output_type": "stream",
     "text": [
      "<_sre.SRE_Match object; span=(3, 6), match='123'>\n",
      "\n",
      "re.match()\n",
      "<_sre.SRE_Match object; span=(0, 3), match='123'>\n",
      "None\n",
      "\n",
      "re.fullmatch()\n",
      "None\n",
      "<_sre.SRE_Match object; span=(0, 3), match='123'>\n",
      "\n",
      "re.findall()\n",
      "['foo', 'bar', 'baz']\n",
      "['foo', 'bar', 'baz'] Here hash (#) characters don’t appear in the return list because they’re outside the grouping parentheses.\n",
      "['#foo#', '#bar#', '#baz#']\n"
     ]
    }
   ],
   "source": [
    "print (re.search(r'(\\d+)', 'foo123bar'))\n",
    "print ('\\nre.match()')\n",
    "print (re.match(r'\\d+', '123foobar'))\n",
    "print(re.match(r'\\d+', 'foo123bar'))\n",
    "\n",
    "print ('\\nre.fullmatch()')\n",
    "print(re.fullmatch(r'\\d+', 'foo123bar'))\n",
    "print (re.fullmatch(r'\\d+', '123'))\n",
    "\n",
    "print ('\\nre.findall()')\n",
    "print (re.findall(r'\\w+', '...foo,,,,bar:%$baz//|'))\n",
    "print (re.findall(r'#(\\w+)#', '#foo#.#bar#.#baz#'), 'Here hash (#) characters don’t appear in the return list because they’re outside the grouping parentheses.')\n",
    "print (re.findall(r'#\\w+#', '#foo#.#bar#.#baz#'))"
   ]
  },
  {
   "cell_type": "markdown",
   "metadata": {},
   "source": [
    "### re.finditer()  \n",
    "scans <string> for non-overlapping matches of <regex> and returns an iterator that yields the match objects from any it finds. It scans the search string from left to right and returns matches in the order it finds them"
   ]
  },
  {
   "cell_type": "code",
   "execution_count": 85,
   "metadata": {
    "collapsed": true
   },
   "outputs": [
    {
     "name": "stdout",
     "output_type": "stream",
     "text": [
      "<_sre.SRE_Match object; span=(3, 6), match='foo'>\n",
      "<_sre.SRE_Match object; span=(10, 13), match='bar'>\n",
      "<_sre.SRE_Match object; span=(16, 19), match='baz'>\n"
     ]
    },
    {
     "ename": "StopIteration",
     "evalue": "",
     "output_type": "error",
     "traceback": [
      "\u001b[0;31m---------------------------------------------------------------------------\u001b[0m",
      "\u001b[0;31mStopIteration\u001b[0m                             Traceback (most recent call last)",
      "\u001b[0;32m<ipython-input-85-6c01c2ef6656>\u001b[0m in \u001b[0;36m<module>\u001b[0;34m\u001b[0m\n\u001b[1;32m      3\u001b[0m \u001b[0mprint\u001b[0m \u001b[0;34m(\u001b[0m\u001b[0mnext\u001b[0m\u001b[0;34m(\u001b[0m\u001b[0mit\u001b[0m\u001b[0;34m)\u001b[0m\u001b[0;34m)\u001b[0m\u001b[0;34m\u001b[0m\u001b[0;34m\u001b[0m\u001b[0m\n\u001b[1;32m      4\u001b[0m \u001b[0mprint\u001b[0m \u001b[0;34m(\u001b[0m\u001b[0mnext\u001b[0m\u001b[0;34m(\u001b[0m\u001b[0mit\u001b[0m\u001b[0;34m)\u001b[0m\u001b[0;34m)\u001b[0m\u001b[0;34m\u001b[0m\u001b[0;34m\u001b[0m\u001b[0m\n\u001b[0;32m----> 5\u001b[0;31m \u001b[0mprint\u001b[0m \u001b[0;34m(\u001b[0m\u001b[0mnext\u001b[0m\u001b[0;34m(\u001b[0m\u001b[0mit\u001b[0m\u001b[0;34m)\u001b[0m\u001b[0;34m)\u001b[0m   \u001b[0;31m#error here as no more match\u001b[0m\u001b[0;34m\u001b[0m\u001b[0;34m\u001b[0m\u001b[0m\n\u001b[0m",
      "\u001b[0;31mStopIteration\u001b[0m: "
     ]
    }
   ],
   "source": [
    "it = re.finditer(r'\\w+', '...foo,,,,bar:%$baz//|')\n",
    "print (next(it))\n",
    "print (next(it))\n",
    "print (next(it))\n",
    "print (next(it))   #error here as no more match"
   ]
  },
  {
   "cell_type": "markdown",
   "metadata": {},
   "source": [
    "### Substitution Functions\n",
    "Substitution functions replace portions of a search string that match a specified regex.\n",
    "\n",
    "re.sub()\tScans a string for regex matches, replaces the matching portions of the string with the specified replacement string, and returns the result\n",
    "\n",
    "re.subn()\tBehaves just like re.sub() but also returns information regarding the number of substitutions made\n",
    "\n",
    "\n",
    "Both re.sub() and re.subn() create a new string with the specified substitutions and return it. The original string remains unchanged. (Remember that strings are immutable in Python, so it wouldn’t be possible for these functions to modify the original string.)\n",
    "\n"
   ]
  },
  {
   "cell_type": "code",
   "execution_count": 8,
   "metadata": {},
   "outputs": [
    {
     "name": "stdout",
     "output_type": "stream",
     "text": [
      "re.sub()\n",
      "foo.#.bar.#.baz  replace all digits by Hash(#)\n",
      "###.123.###.789.###  replace all Characters by Hash(#)\n",
      "\n",
      "Numbered References in re.sub() : \\g<n> or \\<n> .\n",
      "Here \\g<n> or \\<n refers to numbered match, starting from 1.\n",
      "qux,bar,baz,foo\n",
      "qux,bar,baz,foo\n",
      "\n",
      "Restricting number of substitution in re.sub() using count= argument\n",
      "foo.#.bar.#.hello.789.world.111\n",
      "\n",
      "Calling a function to implement substution logic. \n",
      "Here each matching value is passed as argument to function and value returned subsitutes the matched value.\n",
      "\n",
      "\n",
      "def replace_mystring(x):\n",
      "    s = x.group(0)   # get string from match object \n",
      "    \n",
      "    # s.isdigit() returns True if all characters in s are digits\n",
      "    if s.isdigit():\n",
      "         return str(int(s) * 10)\n",
      "    else:\n",
      "        return s.upper()\n",
      "\n",
      ">>>print (re.sub('\\d+', replace_mystring,'foo.123.bar.456.hello.789.world.111', count=2))\n",
      "\n",
      "foo.1230.bar.4560.hello.789.world.111\n"
     ]
    }
   ],
   "source": [
    "print ('re.sub()')\n",
    "\n",
    "s = 'foo.123.bar.789.baz'\n",
    "print (re.sub('\\d+','#', s), ' replace all digits by Hash(#)')\n",
    "print (re.sub('[a-zA-Z]','#', s), ' replace all Characters by Hash(#)')\n",
    "\n",
    "print ('''\\nNumbered References in re.sub() : \\g<n> or \\<n> .\n",
    "Here \\g<n> or \\<n refers to numbered match, starting from 1.''')\n",
    "print (re.sub(r'(\\w+),bar,baz,(\\w+)', r'\\2,bar,baz,\\1' ,'foo,bar,baz,qux' ))\n",
    "print (re.sub(r'(\\w+),bar,baz,(\\w+)', r'\\g<2>,bar,baz,\\g<1>' ,'foo,bar,baz,qux' ))\n",
    "\n",
    "\n",
    "print ('\\nRestricting number of substitution in re.sub() using count= argument')\n",
    "print (re.sub('\\d+', '#','foo.123.bar.456.hello.789.world.111', count=2))\n",
    "\n",
    "print ('''\\nCalling a function to implement substution logic. \n",
    "Here each matching value is passed as argument to function and value returned subsitutes the matched value.\\n\n",
    "\n",
    "def replace_mystring(x):\n",
    "    s = x.group(0)   # get string from match object \n",
    "    \n",
    "    # s.isdigit() returns True if all characters in s are digits\n",
    "    if s.isdigit():\n",
    "         return str(int(s) * 10)\n",
    "    else:\n",
    "        return s.upper()\n",
    "\n",
    ">>>print (re.sub('\\d+', replace_mystring,'foo.123.bar.456.hello.789.world.111', count=2))\n",
    "''')\n",
    "\n",
    "def replace_mystring(x):\n",
    "    s = x.group(0)   # get string from match object \n",
    "    \n",
    "    # s.isdigit() returns True if all characters in s are digits\n",
    "    if s.isdigit():\n",
    "         return str(int(s) * 10)\n",
    "    else:\n",
    "        return s.upper()\n",
    "\n",
    "print (re.sub('\\d+', replace_mystring,'foo.123.bar.456.hello.789.world.111', count=2))\n"
   ]
  },
  {
   "cell_type": "code",
   "execution_count": 12,
   "metadata": {},
   "outputs": [
    {
     "name": "stdout",
     "output_type": "stream",
     "text": [
      "re.subn()\n",
      "('xxx.xxx.baz.qux', 2)\n",
      "\n",
      "\n",
      "('foo.1230.bar.4560.hello.789.world.111', 2) <-- the 2nd variable in tuple tells number of substitution made. \n"
     ]
    }
   ],
   "source": [
    "print ('re.subn()')\n",
    "print (re.subn(r'\\w+', 'xxx', 'foo.bar.baz.qux', count=2))\n",
    "\n",
    "print ('\\n')\n",
    "def replace_mystring(x):\n",
    "    s = x.group(0)   # get string from match object \n",
    "    \n",
    "    # s.isdigit() returns True if all characters in s are digits\n",
    "    if s.isdigit():\n",
    "         return str(int(s) * 10)\n",
    "    else:\n",
    "        return s.upper()\n",
    "\n",
    "print (re.subn('\\d+', replace_mystring,'foo.123.bar.456.hello.789.world.111', count=2) , '''<-- the 2nd variable in tuple tells number of substitution made. ''' )\n",
    "    "
   ]
  },
  {
   "cell_type": "markdown",
   "metadata": {},
   "source": [
    "### Utility Functions\n",
    "\n",
    "re.split()\tSplits a string into substrings using a regex as a delimiter\n",
    "\n",
    "re.escape()\tEscapes characters in a regex"
   ]
  },
  {
   "cell_type": "code",
   "execution_count": 19,
   "metadata": {},
   "outputs": [
    {
     "name": "stdout",
     "output_type": "stream",
     "text": [
      "re.split()\n",
      "['foo', 'bar', 'baz', 'qux']\n",
      "['foo', ',', 'bar', '  ;  ', 'baz', ' / ', 'qux']\n",
      "\n",
      "re.sub()  use maxsplit= argument\n",
      "['foo', 'bar', 'baz', 'qux, quux, corge']  maxsplit=3  3 splits + remainder string as a value in list\n",
      "['foo', 'bar', 'baz', 'qux', 'quux', 'corge']  maxsplit=0  Split for all values\n",
      "['foo, bar, baz, qux, quux, corge']  maxsplit=-3 i.e. negative no split - whole string returned\n"
     ]
    }
   ],
   "source": [
    "print ('re.split()')\n",
    "\n",
    "print (re.split('\\s*[,;/]\\s*', 'foo,bar  ;  baz / qux'))\n",
    "\n",
    "print (re.split('(\\s*[,;/]\\s*)', 'foo,bar  ;  baz / qux'))\n",
    "\n",
    "print ('\\nre.sub()  use maxsplit= argument')\n",
    "print (re.split(r',\\s*','foo, bar, baz, qux, quux, corge', maxsplit=3), ' maxsplit=3  3 splits + remainder string as a value in list')\n",
    "print (re.split(r',\\s*','foo, bar, baz, qux, quux, corge', maxsplit=0), ' maxsplit=0  Split for all values')\n",
    "print (re.split(r',\\s*','foo, bar, baz, qux, quux, corge', maxsplit=-2), ' maxsplit=-3 i.e. negative no split - whole string returned')"
   ]
  },
  {
   "cell_type": "markdown",
   "metadata": {},
   "source": [
    "#### Compiled Regex Objects in Python\n",
    "The re module supports the capability to precompile a regex in Python into a regular expression object that can be repeatedly used later.\n",
    "\n",
    "re.compile('regex', flags=0)\n",
    "\n",
    "There are two ways to use a compiled regular expression object. You can specify it as the first argument to the re module functions in place of <regex>:\n",
    "    \n",
    "    re_obj = re.compile(<regex>, <flags>)\n",
    "    result = re.search(re_obj, <string>)\n",
    "\n",
    "You can also invoke a method directly from a regular expression object:\n",
    "    \n",
    "    re_obj = re.compile(<regex>, <flags>)\n",
    "    result = re_obj.search(<string>)\n",
    "\n",
    "\n",
    "why needed - If you use a particular regex in your Python code frequently, then precompiling allows you to separate out the regex definition from its uses. This enhances modularity.    \n",
    "    \n",
    "    \n",
    "A compiled regular expression object re_obj supports the following methods:\n",
    "\n",
    "    re_obj.search(<string>[, <pos>[, <endpos>]])\n",
    "    re_obj.match(<string>[, <pos>[, <endpos>]])\n",
    "    re_obj.fullmatch(<string>[, <pos>[, <endpos>]])\n",
    "    re_obj.findall(<string>[, <pos>[, <endpos>]])\n",
    "    re_obj.finditer(<string>[, <pos>[, <endpos>]])    "
   ]
  },
  {
   "cell_type": "code",
   "execution_count": 25,
   "metadata": {},
   "outputs": [
    {
     "name": "stdout",
     "output_type": "stream",
     "text": [
      "<_sre.SRE_Match object; span=(3, 6), match='123'>\n",
      "<_sre.SRE_Match object; span=(3, 6), match='123'>  method 1\n",
      "<_sre.SRE_Match object; span=(3, 6), match='123'>  method 2\n"
     ]
    }
   ],
   "source": [
    "s = 'foo123bar'\n",
    "print (re.search(r'(\\d+)', s))\n",
    "\n",
    "myRegex = re.compile('(\\d+)')\n",
    "\n",
    "print (re.search(myRegex,s), ' method 1')\n",
    "print (myRegex.search(s), ' method 2')"
   ]
  },
  {
   "cell_type": "code",
   "execution_count": 27,
   "metadata": {},
   "outputs": [
    {
     "name": "stdout",
     "output_type": "stream",
     "text": [
      "None\n",
      "<_sre.SRE_Match object; span=(3, 6), match='123'>\n",
      "<_sre.SRE_Match object; span=(3, 5), match='99'>\n",
      "None\n"
     ]
    }
   ],
   "source": [
    "s1, s2, s3, s4 = 'foo.bar', 'foo123bar', 'baz99', 'qux & grault'\n",
    "\n",
    "re_obj = re.compile('\\d+')\n",
    "print (re_obj.search(s1))\n",
    "print (re_obj.search(s2))\n",
    "print (re_obj.search(s3))\n",
    "print (re_obj.search(s4))"
   ]
  },
  {
   "cell_type": "code",
   "execution_count": 30,
   "metadata": {},
   "outputs": [
    {
     "name": "stdout",
     "output_type": "stream",
     "text": [
      "barbaz\n",
      "Here, even though 'bar' does occur at the start of the substring beginning at character 3, \n",
      "it isn’t at the start of the entire string, so the caret (^) anchor fails to match.\n",
      "None\n"
     ]
    }
   ],
   "source": [
    "re_obj = re.compile('^bar')\n",
    "s = 'foobarbaz'\n",
    "print (s[3:])\n",
    "print ('''Here, even though 'bar' does occur at the start of the substring beginning at character 3, \n",
    "it isn’t at the start of the entire string, so the caret (^) anchor fails to match.''')\n",
    "print(re_obj.search(s, 3))"
   ]
  },
  {
   "cell_type": "code",
   "execution_count": null,
   "metadata": {},
   "outputs": [],
   "source": []
  },
  {
   "cell_type": "code",
   "execution_count": null,
   "metadata": {},
   "outputs": [],
   "source": []
  },
  {
   "cell_type": "code",
   "execution_count": null,
   "metadata": {},
   "outputs": [],
   "source": []
  },
  {
   "cell_type": "code",
   "execution_count": null,
   "metadata": {},
   "outputs": [],
   "source": []
  },
  {
   "cell_type": "code",
   "execution_count": null,
   "metadata": {},
   "outputs": [],
   "source": []
  },
  {
   "cell_type": "code",
   "execution_count": null,
   "metadata": {},
   "outputs": [],
   "source": []
  },
  {
   "cell_type": "code",
   "execution_count": null,
   "metadata": {},
   "outputs": [],
   "source": []
  },
  {
   "cell_type": "code",
   "execution_count": null,
   "metadata": {},
   "outputs": [],
   "source": []
  },
  {
   "cell_type": "code",
   "execution_count": null,
   "metadata": {},
   "outputs": [],
   "source": []
  },
  {
   "cell_type": "code",
   "execution_count": null,
   "metadata": {},
   "outputs": [],
   "source": []
  },
  {
   "cell_type": "code",
   "execution_count": null,
   "metadata": {},
   "outputs": [],
   "source": []
  },
  {
   "cell_type": "code",
   "execution_count": null,
   "metadata": {},
   "outputs": [],
   "source": []
  },
  {
   "cell_type": "code",
   "execution_count": null,
   "metadata": {},
   "outputs": [],
   "source": []
  },
  {
   "cell_type": "code",
   "execution_count": null,
   "metadata": {},
   "outputs": [],
   "source": []
  },
  {
   "cell_type": "code",
   "execution_count": null,
   "metadata": {},
   "outputs": [],
   "source": []
  },
  {
   "cell_type": "code",
   "execution_count": null,
   "metadata": {},
   "outputs": [],
   "source": []
  },
  {
   "cell_type": "code",
   "execution_count": null,
   "metadata": {},
   "outputs": [],
   "source": []
  },
  {
   "cell_type": "code",
   "execution_count": null,
   "metadata": {},
   "outputs": [],
   "source": []
  }
 ],
 "metadata": {
  "kernelspec": {
   "display_name": "Python 3",
   "language": "python",
   "name": "python3"
  }
 },
 "nbformat": 4,
 "nbformat_minor": 4
}
